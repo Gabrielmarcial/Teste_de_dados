{
 "cells": [
  {
   "cell_type": "markdown",
   "metadata": {
    "application/vnd.databricks.v1+cell": {
     "cellMetadata": {
      "byteLimit": 2048000,
      "rowLimit": 10000
     },
     "inputWidgets": {},
     "nuid": "82c819f3-a684-4eca-b6c9-4635117143eb",
     "showTitle": false,
     "title": ""
    }
   },
   "source": [
    "# __*Teste de Dados*__"
   ]
  },
  {
   "cell_type": "markdown",
   "metadata": {
    "application/vnd.databricks.v1+cell": {
     "cellMetadata": {
      "byteLimit": 2048000,
      "rowLimit": 10000
     },
     "inputWidgets": {},
     "nuid": "e423726c-6e37-4839-a16c-508fd2a62ac6",
     "showTitle": false,
     "title": ""
    }
   },
   "source": [
    "### __*Configurações Iniciais do Projeto*__"
   ]
  },
  {
   "cell_type": "code",
   "execution_count": 0,
   "metadata": {
    "application/vnd.databricks.v1+cell": {
     "cellMetadata": {
      "byteLimit": 2048000,
      "rowLimit": 10000
     },
     "inputWidgets": {},
     "nuid": "8cecea00-14c6-4c91-b2af-014d3a944743",
     "showTitle": false,
     "title": ""
    }
   },
   "outputs": [],
   "source": [
    "from pyspark.sql import SparkSession\n",
    "from pyspark.sql.functions import col, year,regexp_replace\n",
    "from pyspark.sql.functions import desc\n",
    "import psycopg2\n",
    "import pandas as pd\n",
    "\n",
    "path = 'dbfs:/FileStore'\n",
    "\n",
    "db_properties = {\n",
    "    \"url\": \"jdbc:postgresql://psql-mock-database-cloud.postgres.database.azure.com:5432/ecom1692318010376vfwwambdpkyibnfm\",\n",
    "    \"user\": \"kumgkhwuqrbpgarjylncaedn@psql-mock-database-cloud\",\n",
    "    \"password\": \"zhbrfvkhhqhbeljntqpduvma\",\n",
    "    \"driver\": \"org.postgresql.Driver\"\n",
    "}\n",
    "\n",
    "connection_string = \"\"\"dbname='ecom1692318010376vfwwambdpkyibnfm' \n",
    "                       user='kumgkhwuqrbpgarjylncaedn@psql-mock-database-cloud' \n",
    "                       password='zhbrfvkhhqhbeljntqpduvma' host='psql-mock-database-cloud.postgres.database.azure.com' \n",
    "                       port='5432'\n",
    "                       \"\"\"\n",
    "\n",
    "connection = psycopg2.connect(connection_string)\n",
    "\n",
    "spark = SparkSession.builder.appName(\"TestedeDados\").getOrCreate()\n"
   ]
  },
  {
   "cell_type": "markdown",
   "metadata": {
    "application/vnd.databricks.v1+cell": {
     "cellMetadata": {
      "byteLimit": 2048000,
      "rowLimit": 10000
     },
     "inputWidgets": {},
     "nuid": "de0db1b8-3ed1-44c0-99a5-200ff9248f5f",
     "showTitle": false,
     "title": ""
    }
   },
   "source": [
    "### __*Funções Auxiliares*__"
   ]
  },
  {
   "cell_type": "code",
   "execution_count": 0,
   "metadata": {
    "application/vnd.databricks.v1+cell": {
     "cellMetadata": {
      "byteLimit": 2048000,
      "rowLimit": 10000
     },
     "inputWidgets": {},
     "nuid": "6e062f7a-5732-452e-b895-94e5625acff9",
     "showTitle": false,
     "title": ""
    }
   },
   "outputs": [],
   "source": [
    "\n",
    "def GetTables(connection) -> list:\n",
    "    \"\"\"Função para listas todas as tabelas do DB\"\"\"\n",
    "\n",
    "    query = \"\"\"SELECT table_name\n",
    "            FROM information_schema.tables\n",
    "            WHERE table_schema = 'public' AND table_type = 'BASE TABLE';\n",
    "            \"\"\"\n",
    "    cursor = connection.cursor()\n",
    "    cursor.execute(query)\n",
    "    tables = cursor.fetchall()\n",
    "    return tables"
   ]
  },
  {
   "cell_type": "markdown",
   "metadata": {
    "application/vnd.databricks.v1+cell": {
     "cellMetadata": {
      "byteLimit": 2048000,
      "rowLimit": 10000
     },
     "inputWidgets": {},
     "nuid": "2485611c-6da7-44d9-8811-896111041bbb",
     "showTitle": false,
     "title": ""
    }
   },
   "source": [
    "### __*Salvando os dados como parquet*__"
   ]
  },
  {
   "cell_type": "code",
   "execution_count": 0,
   "metadata": {
    "application/vnd.databricks.v1+cell": {
     "cellMetadata": {
      "byteLimit": 2048000,
      "rowLimit": 10000
     },
     "inputWidgets": {},
     "nuid": "5a418dda-0aba-4dfb-9de3-9785b2e0eb3a",
     "showTitle": false,
     "title": ""
    }
   },
   "outputs": [
    {
     "output_type": "stream",
     "name": "stdout",
     "output_type": "stream",
     "text": [
      "customers salva\nemployees salva\noffices salva\norderdetails salva\norders salva\npayments salva\nproduct_lines salva\nproducts salva\n"
     ]
    }
   ],
   "source": [
    "for table in GetTables(connection):\n",
    "  table_name = table[0]\n",
    "  df = spark.read.jdbc(url=db_properties[\"url\"], table=table_name, properties=db_properties)\n",
    "  df.write.mode(\"overwrite\").parquet(f'{path}/{table_name}')\n",
    "  print(f'{table_name} salva')\n",
    "\n",
    "  "
   ]
  },
  {
   "cell_type": "markdown",
   "metadata": {
    "application/vnd.databricks.v1+cell": {
     "cellMetadata": {
      "byteLimit": 2048000,
      "rowLimit": 10000
     },
     "inputWidgets": {},
     "nuid": "f9735160-a9d3-43bc-9790-8b212ffb4cf8",
     "showTitle": false,
     "title": ""
    }
   },
   "source": [
    "### __*Merge entre a tabela JDBC e os arquivos parquet*__"
   ]
  },
  {
   "cell_type": "code",
   "execution_count": 0,
   "metadata": {
    "application/vnd.databricks.v1+cell": {
     "cellMetadata": {
      "byteLimit": 2048000,
      "rowLimit": 10000
     },
     "inputWidgets": {},
     "nuid": "ea25af67-4058-4ef3-8443-071fedbead32",
     "showTitle": false,
     "title": ""
    }
   },
   "outputs": [],
   "source": [
    "\n",
    "\n",
    "def Inser_jbdc_in_parquet(table_name:str,jdbc_properties:dict,path_parquet_table:str)->None:\n",
    "    \"\"\"Funçaõ para inserir \"\"\"\n",
    "\n",
    "    jdbc_table = spark.read.jdbc(url=jdbc_properties['url'], table=table_name, properties=jdbc_properties)\n",
    "    parquet_data = spark.read.parquet(path_parquet_table)\n",
    "\n",
    "    new_parquet_itens = jdbc_table.subtract(parquet_data)\n",
    "    new_parquet_itens.write.mode(\"append\").parquet(path_parquet_table)\n",
    "\n",
    "\n",
    "def Update_jbdc_in_parquet(table_name:str,jdbc_properties:dict,path_parquet_table:str,col_id:str)->None:\n",
    "    \"\"\"Função para atualizar os dados\"\"\"\n",
    "\n",
    "    jdbc_table = spark.read.jdbc(url=jdbc_properties['url'], table=table_name, properties=jdbc_properties)\n",
    "\n",
    "    parquet_data = spark.read.parquet(path_parquet_table)\n",
    "\n",
    "    parquet_update = jdbc_table.join(parquet_data.select(col_id),col_id )\n",
    "    parquet_update.write.mode(\"overwrite\").parquet(path_parquet_table)\n",
    "\n",
    "\n",
    "def Delete_jbdc_in_parquet(table_name:str,jdbc_properties:dict,path_parquet_table:str,col_id:str)-> None:\n",
    "    \"\"\"Função para deletar dados\"\"\"\n",
    "    \n",
    "    jdbc_table = spark.read.jdbc(url=jdbc_properties['url'], table=table_name, properties=jdbc_properties)\n",
    "\n",
    "    parquet_data = spark.read.parquet(path_parquet_table)\n",
    "\n",
    "    parquet_delete = parquet_data.join(jdbc_table.select(col_id),col_id, \"inner\")\n",
    "    parquet_delete.write.mode(\"overwrite\").parquet(path_parquet_table)\n",
    "\n",
    "    "
   ]
  },
  {
   "cell_type": "markdown",
   "metadata": {
    "application/vnd.databricks.v1+cell": {
     "cellMetadata": {
      "byteLimit": 2048000,
      "rowLimit": 10000
     },
     "inputWidgets": {},
     "nuid": "fa1060e7-f909-4d67-bbe9-ed106e6224b9",
     "showTitle": false,
     "title": ""
    }
   },
   "source": [
    "__*Teste da função de Insert*__"
   ]
  },
  {
   "cell_type": "code",
   "execution_count": 0,
   "metadata": {
    "application/vnd.databricks.v1+cell": {
     "cellMetadata": {
      "byteLimit": 2048000,
      "rowLimit": 10000
     },
     "inputWidgets": {},
     "nuid": "f3aca9fa-71c8-4190-af51-cc4e09a4fa4d",
     "showTitle": false,
     "title": ""
    }
   },
   "outputs": [],
   "source": [
    "# inserindo um novo valor no banco para testar a função \n",
    "\n",
    "query_insert = \"\"\"\n",
    "INSERT INTO public.products\n",
    "(product_code, product_name, product_line, product_scale, product_vendor, product_description, quantity_in_stock, buy_price, msrp)\n",
    "VALUES('S00_teste', 'product_test', 'teste_line', '1:100', 'teste', 'teste', 0, 0, 0);\n",
    "\"\"\"\n",
    "\n",
    "cursor = connection.cursor()\n",
    "cursor.execute(query_insert)\n",
    "connection.commit()"
   ]
  },
  {
   "cell_type": "code",
   "execution_count": 0,
   "metadata": {
    "application/vnd.databricks.v1+cell": {
     "cellMetadata": {
      "byteLimit": 2048000,
      "rowLimit": 10000
     },
     "inputWidgets": {},
     "nuid": "ce9ff4d4-4dc0-4f8d-a6a2-733afd864b23",
     "showTitle": false,
     "title": ""
    }
   },
   "outputs": [
    {
     "output_type": "stream",
     "name": "stdout",
     "output_type": "stream",
     "text": [
      "110\nDados atualizados\n111\n"
     ]
    }
   ],
   "source": [
    "# verificando o numero de linhas antes de inserir \n",
    "df_insert = spark.read.parquet(f'{path}/products').count()\n",
    "print(df_insert)\n",
    "\n",
    "# inserindo os dados com a função \n",
    "Inser_jbdc_in_parquet(table_name='products',jdbc_properties=db_properties,path_parquet_table=f'{path}/products')\n",
    "print('Dados atualizados')\n",
    "\n",
    "# verificando o numero de linhas depois de inserir\n",
    "df_insert = spark.read.parquet(f'{path}/products')\n",
    "print(df_insert.count())\n",
    "\n",
    "\n",
    "\n"
   ]
  },
  {
   "cell_type": "markdown",
   "metadata": {
    "application/vnd.databricks.v1+cell": {
     "cellMetadata": {
      "byteLimit": 2048000,
      "rowLimit": 10000
     },
     "inputWidgets": {},
     "nuid": "c1b41a85-7d30-412b-8729-e16a7bc956b0",
     "showTitle": false,
     "title": ""
    }
   },
   "source": [
    "__*Teste da Função de Update*__"
   ]
  },
  {
   "cell_type": "code",
   "execution_count": 0,
   "metadata": {
    "application/vnd.databricks.v1+cell": {
     "cellMetadata": {
      "byteLimit": 2048000,
      "rowLimit": 10000
     },
     "inputWidgets": {},
     "nuid": "2a0484b5-8043-40e5-8e7c-567c4b9c1d20",
     "showTitle": false,
     "title": ""
    }
   },
   "outputs": [],
   "source": [
    "# Atualizando um novo valor no banco para testar a função \n",
    "\n",
    "query_insert = \"\"\"\n",
    "UPDATE public.products\n",
    "SET product_name='product_test_update', product_line='teste_line_update'\n",
    "where product_code = 'S00_teste';\n",
    "\"\"\"\n",
    "\n",
    "cursor = connection.cursor()\n",
    "cursor.execute(query_insert)\n",
    "connection.commit()"
   ]
  },
  {
   "cell_type": "code",
   "execution_count": 0,
   "metadata": {
    "application/vnd.databricks.v1+cell": {
     "cellMetadata": {
      "byteLimit": 2048000,
      "rowLimit": 10000
     },
     "inputWidgets": {},
     "nuid": "8426d0db-f76e-42e8-9de7-cc647fa48037",
     "showTitle": false,
     "title": ""
    }
   },
   "outputs": [
    {
     "output_type": "stream",
     "name": "stderr",
     "output_type": "stream",
     "text": [
      "/databricks/spark/python/pyspark/sql/pandas/utils.py:124: UserWarning: The conversion of DecimalType columns is inefficient and may take a long time. Column names: [buy_price, msrp] If those columns are not necessary, you may consider dropping them or converting to primitive types before the conversion.\n  warnings.warn(\n"
     ]
    },
    {
     "output_type": "display_data",
     "data": {
      "text/html": [
       "<div>\n",
       "<style scoped>\n",
       "    .dataframe tbody tr th:only-of-type {\n",
       "        vertical-align: middle;\n",
       "    }\n",
       "\n",
       "    .dataframe tbody tr th {\n",
       "        vertical-align: top;\n",
       "    }\n",
       "\n",
       "    .dataframe thead th {\n",
       "        text-align: right;\n",
       "    }\n",
       "</style>\n",
       "<table border=\"1\" class=\"dataframe\">\n",
       "  <thead>\n",
       "    <tr style=\"text-align: right;\">\n",
       "      <th></th>\n",
       "      <th>product_code</th>\n",
       "      <th>product_name</th>\n",
       "      <th>product_line</th>\n",
       "      <th>product_scale</th>\n",
       "      <th>product_vendor</th>\n",
       "      <th>product_description</th>\n",
       "      <th>quantity_in_stock</th>\n",
       "      <th>buy_price</th>\n",
       "      <th>msrp</th>\n",
       "    </tr>\n",
       "  </thead>\n",
       "  <tbody>\n",
       "    <tr>\n",
       "      <th>109</th>\n",
       "      <td>S72_3212</td>\n",
       "      <td>Pont Yacht</td>\n",
       "      <td>Ships</td>\n",
       "      <td>1:72</td>\n",
       "      <td>Unimax Art Galleries</td>\n",
       "      <td>Measures 38 inches Long x 33 3/4 inches High. ...</td>\n",
       "      <td>414</td>\n",
       "      <td>33.30</td>\n",
       "      <td>54.60</td>\n",
       "    </tr>\n",
       "    <tr>\n",
       "      <th>110</th>\n",
       "      <td>S00_teste</td>\n",
       "      <td>product_test</td>\n",
       "      <td>teste_line</td>\n",
       "      <td>1:100</td>\n",
       "      <td>teste</td>\n",
       "      <td>teste</td>\n",
       "      <td>0</td>\n",
       "      <td>0.00</td>\n",
       "      <td>0.00</td>\n",
       "    </tr>\n",
       "  </tbody>\n",
       "</table>\n",
       "</div>"
      ]
     },
     "metadata": {
      "application/vnd.databricks.v1+output": {
       "addedWidgets": {},
       "arguments": {},
       "data": "<div>\n<style scoped>\n    .dataframe tbody tr th:only-of-type {\n        vertical-align: middle;\n    }\n\n    .dataframe tbody tr th {\n        vertical-align: top;\n    }\n\n    .dataframe thead th {\n        text-align: right;\n    }\n</style>\n<table border=\"1\" class=\"dataframe\">\n  <thead>\n    <tr style=\"text-align: right;\">\n      <th></th>\n      <th>product_code</th>\n      <th>product_name</th>\n      <th>product_line</th>\n      <th>product_scale</th>\n      <th>product_vendor</th>\n      <th>product_description</th>\n      <th>quantity_in_stock</th>\n      <th>buy_price</th>\n      <th>msrp</th>\n    </tr>\n  </thead>\n  <tbody>\n    <tr>\n      <th>109</th>\n      <td>S72_3212</td>\n      <td>Pont Yacht</td>\n      <td>Ships</td>\n      <td>1:72</td>\n      <td>Unimax Art Galleries</td>\n      <td>Measures 38 inches Long x 33 3/4 inches High. ...</td>\n      <td>414</td>\n      <td>33.30</td>\n      <td>54.60</td>\n    </tr>\n    <tr>\n      <th>110</th>\n      <td>S00_teste</td>\n      <td>product_test</td>\n      <td>teste_line</td>\n      <td>1:100</td>\n      <td>teste</td>\n      <td>teste</td>\n      <td>0</td>\n      <td>0.00</td>\n      <td>0.00</td>\n    </tr>\n  </tbody>\n</table>\n</div>",
       "datasetInfos": [],
       "metadata": {},
       "removedWidgets": [],
       "textData": null,
       "type": "htmlSandbox"
      }
     },
     "output_type": "display_data"
    }
   ],
   "source": [
    "# visualizando os dados antes da atualização\n",
    "spark.read.parquet(path+\"/products\").toPandas().tail(2)"
   ]
  },
  {
   "cell_type": "code",
   "execution_count": 0,
   "metadata": {
    "application/vnd.databricks.v1+cell": {
     "cellMetadata": {
      "byteLimit": 2048000,
      "rowLimit": 10000
     },
     "inputWidgets": {},
     "nuid": "92de3ccc-4739-4464-a59d-266f136cb4ce",
     "showTitle": false,
     "title": ""
    }
   },
   "outputs": [],
   "source": [
    "# atualizando os dados\n",
    "Update_jbdc_in_parquet(table_name='products',jdbc_properties=db_properties,path_parquet_table=f'{path}/products',col_id='product_code')"
   ]
  },
  {
   "cell_type": "code",
   "execution_count": 0,
   "metadata": {
    "application/vnd.databricks.v1+cell": {
     "cellMetadata": {
      "byteLimit": 2048000,
      "rowLimit": 10000
     },
     "inputWidgets": {},
     "nuid": "a8a04744-4925-4017-ac29-158009cbfc33",
     "showTitle": false,
     "title": ""
    }
   },
   "outputs": [
    {
     "output_type": "stream",
     "name": "stderr",
     "output_type": "stream",
     "text": [
      "/databricks/spark/python/pyspark/sql/pandas/utils.py:124: UserWarning: The conversion of DecimalType columns is inefficient and may take a long time. Column names: [buy_price, msrp] If those columns are not necessary, you may consider dropping them or converting to primitive types before the conversion.\n  warnings.warn(\n"
     ]
    },
    {
     "output_type": "display_data",
     "data": {
      "text/html": [
       "<div>\n",
       "<style scoped>\n",
       "    .dataframe tbody tr th:only-of-type {\n",
       "        vertical-align: middle;\n",
       "    }\n",
       "\n",
       "    .dataframe tbody tr th {\n",
       "        vertical-align: top;\n",
       "    }\n",
       "\n",
       "    .dataframe thead th {\n",
       "        text-align: right;\n",
       "    }\n",
       "</style>\n",
       "<table border=\"1\" class=\"dataframe\">\n",
       "  <thead>\n",
       "    <tr style=\"text-align: right;\">\n",
       "      <th></th>\n",
       "      <th>product_code</th>\n",
       "      <th>product_name</th>\n",
       "      <th>product_line</th>\n",
       "      <th>product_scale</th>\n",
       "      <th>product_vendor</th>\n",
       "      <th>product_description</th>\n",
       "      <th>quantity_in_stock</th>\n",
       "      <th>buy_price</th>\n",
       "      <th>msrp</th>\n",
       "    </tr>\n",
       "  </thead>\n",
       "  <tbody>\n",
       "    <tr>\n",
       "      <th>109</th>\n",
       "      <td>S72_3212</td>\n",
       "      <td>Pont Yacht</td>\n",
       "      <td>Ships</td>\n",
       "      <td>1:72</td>\n",
       "      <td>Unimax Art Galleries</td>\n",
       "      <td>Measures 38 inches Long x 33 3/4 inches High. ...</td>\n",
       "      <td>414</td>\n",
       "      <td>33.30</td>\n",
       "      <td>54.60</td>\n",
       "    </tr>\n",
       "    <tr>\n",
       "      <th>110</th>\n",
       "      <td>S00_teste</td>\n",
       "      <td>product_test_update</td>\n",
       "      <td>teste_line_update</td>\n",
       "      <td>1:100</td>\n",
       "      <td>teste</td>\n",
       "      <td>teste</td>\n",
       "      <td>0</td>\n",
       "      <td>0.00</td>\n",
       "      <td>0.00</td>\n",
       "    </tr>\n",
       "  </tbody>\n",
       "</table>\n",
       "</div>"
      ]
     },
     "metadata": {
      "application/vnd.databricks.v1+output": {
       "addedWidgets": {},
       "arguments": {},
       "data": "<div>\n<style scoped>\n    .dataframe tbody tr th:only-of-type {\n        vertical-align: middle;\n    }\n\n    .dataframe tbody tr th {\n        vertical-align: top;\n    }\n\n    .dataframe thead th {\n        text-align: right;\n    }\n</style>\n<table border=\"1\" class=\"dataframe\">\n  <thead>\n    <tr style=\"text-align: right;\">\n      <th></th>\n      <th>product_code</th>\n      <th>product_name</th>\n      <th>product_line</th>\n      <th>product_scale</th>\n      <th>product_vendor</th>\n      <th>product_description</th>\n      <th>quantity_in_stock</th>\n      <th>buy_price</th>\n      <th>msrp</th>\n    </tr>\n  </thead>\n  <tbody>\n    <tr>\n      <th>109</th>\n      <td>S72_3212</td>\n      <td>Pont Yacht</td>\n      <td>Ships</td>\n      <td>1:72</td>\n      <td>Unimax Art Galleries</td>\n      <td>Measures 38 inches Long x 33 3/4 inches High. ...</td>\n      <td>414</td>\n      <td>33.30</td>\n      <td>54.60</td>\n    </tr>\n    <tr>\n      <th>110</th>\n      <td>S00_teste</td>\n      <td>product_test_update</td>\n      <td>teste_line_update</td>\n      <td>1:100</td>\n      <td>teste</td>\n      <td>teste</td>\n      <td>0</td>\n      <td>0.00</td>\n      <td>0.00</td>\n    </tr>\n  </tbody>\n</table>\n</div>",
       "datasetInfos": [],
       "metadata": {},
       "removedWidgets": [],
       "textData": null,
       "type": "htmlSandbox"
      }
     },
     "output_type": "display_data"
    }
   ],
   "source": [
    "# visualizando os dados depois da atualização\n",
    "spark.read.parquet(path+\"/products\").toPandas().tail(2)"
   ]
  },
  {
   "cell_type": "markdown",
   "metadata": {
    "application/vnd.databricks.v1+cell": {
     "cellMetadata": {
      "byteLimit": 2048000,
      "rowLimit": 10000
     },
     "inputWidgets": {},
     "nuid": "ed8f890b-2c3d-4a3e-8a57-222eac1f7774",
     "showTitle": false,
     "title": ""
    }
   },
   "source": [
    "__*Teste da Função de Delete*__"
   ]
  },
  {
   "cell_type": "code",
   "execution_count": 0,
   "metadata": {
    "application/vnd.databricks.v1+cell": {
     "cellMetadata": {
      "byteLimit": 2048000,
      "rowLimit": 10000
     },
     "inputWidgets": {},
     "nuid": "9530293c-c247-42ca-bf72-dabdff73aab6",
     "showTitle": false,
     "title": ""
    }
   },
   "outputs": [],
   "source": [
    "# Deletando um novo valor no banco para testar a função \n",
    "\n",
    "query_insert = \"\"\"\n",
    "DELETE FROM public.products\n",
    "where product_code = 'S00_teste';\n",
    "\"\"\"\n",
    "\n",
    "cursor = connection.cursor()\n",
    "cursor.execute(query_insert)\n",
    "connection.commit()"
   ]
  },
  {
   "cell_type": "code",
   "execution_count": 0,
   "metadata": {
    "application/vnd.databricks.v1+cell": {
     "cellMetadata": {
      "byteLimit": 2048000,
      "rowLimit": 10000
     },
     "inputWidgets": {},
     "nuid": "6ce52db4-cea0-4b3a-9c3a-e5d3b0c95f5e",
     "showTitle": false,
     "title": ""
    }
   },
   "outputs": [
    {
     "output_type": "stream",
     "name": "stderr",
     "output_type": "stream",
     "text": [
      "/databricks/spark/python/pyspark/sql/pandas/utils.py:124: UserWarning: The conversion of DecimalType columns is inefficient and may take a long time. Column names: [buy_price, msrp] If those columns are not necessary, you may consider dropping them or converting to primitive types before the conversion.\n  warnings.warn(\n"
     ]
    },
    {
     "output_type": "display_data",
     "data": {
      "text/html": [
       "<div>\n",
       "<style scoped>\n",
       "    .dataframe tbody tr th:only-of-type {\n",
       "        vertical-align: middle;\n",
       "    }\n",
       "\n",
       "    .dataframe tbody tr th {\n",
       "        vertical-align: top;\n",
       "    }\n",
       "\n",
       "    .dataframe thead th {\n",
       "        text-align: right;\n",
       "    }\n",
       "</style>\n",
       "<table border=\"1\" class=\"dataframe\">\n",
       "  <thead>\n",
       "    <tr style=\"text-align: right;\">\n",
       "      <th></th>\n",
       "      <th>product_code</th>\n",
       "      <th>product_name</th>\n",
       "      <th>product_line</th>\n",
       "      <th>product_scale</th>\n",
       "      <th>product_vendor</th>\n",
       "      <th>product_description</th>\n",
       "      <th>quantity_in_stock</th>\n",
       "      <th>buy_price</th>\n",
       "      <th>msrp</th>\n",
       "    </tr>\n",
       "  </thead>\n",
       "  <tbody>\n",
       "    <tr>\n",
       "      <th>109</th>\n",
       "      <td>S72_3212</td>\n",
       "      <td>Pont Yacht</td>\n",
       "      <td>Ships</td>\n",
       "      <td>1:72</td>\n",
       "      <td>Unimax Art Galleries</td>\n",
       "      <td>Measures 38 inches Long x 33 3/4 inches High. ...</td>\n",
       "      <td>414</td>\n",
       "      <td>33.30</td>\n",
       "      <td>54.60</td>\n",
       "    </tr>\n",
       "    <tr>\n",
       "      <th>110</th>\n",
       "      <td>S00_teste</td>\n",
       "      <td>product_test_update</td>\n",
       "      <td>teste_line_update</td>\n",
       "      <td>1:100</td>\n",
       "      <td>teste</td>\n",
       "      <td>teste</td>\n",
       "      <td>0</td>\n",
       "      <td>0.00</td>\n",
       "      <td>0.00</td>\n",
       "    </tr>\n",
       "  </tbody>\n",
       "</table>\n",
       "</div>"
      ]
     },
     "metadata": {
      "application/vnd.databricks.v1+output": {
       "addedWidgets": {},
       "arguments": {},
       "data": "<div>\n<style scoped>\n    .dataframe tbody tr th:only-of-type {\n        vertical-align: middle;\n    }\n\n    .dataframe tbody tr th {\n        vertical-align: top;\n    }\n\n    .dataframe thead th {\n        text-align: right;\n    }\n</style>\n<table border=\"1\" class=\"dataframe\">\n  <thead>\n    <tr style=\"text-align: right;\">\n      <th></th>\n      <th>product_code</th>\n      <th>product_name</th>\n      <th>product_line</th>\n      <th>product_scale</th>\n      <th>product_vendor</th>\n      <th>product_description</th>\n      <th>quantity_in_stock</th>\n      <th>buy_price</th>\n      <th>msrp</th>\n    </tr>\n  </thead>\n  <tbody>\n    <tr>\n      <th>109</th>\n      <td>S72_3212</td>\n      <td>Pont Yacht</td>\n      <td>Ships</td>\n      <td>1:72</td>\n      <td>Unimax Art Galleries</td>\n      <td>Measures 38 inches Long x 33 3/4 inches High. ...</td>\n      <td>414</td>\n      <td>33.30</td>\n      <td>54.60</td>\n    </tr>\n    <tr>\n      <th>110</th>\n      <td>S00_teste</td>\n      <td>product_test_update</td>\n      <td>teste_line_update</td>\n      <td>1:100</td>\n      <td>teste</td>\n      <td>teste</td>\n      <td>0</td>\n      <td>0.00</td>\n      <td>0.00</td>\n    </tr>\n  </tbody>\n</table>\n</div>",
       "datasetInfos": [],
       "metadata": {},
       "removedWidgets": [],
       "textData": null,
       "type": "htmlSandbox"
      }
     },
     "output_type": "display_data"
    }
   ],
   "source": [
    "# visualizando antes da exclusão dos dados\n",
    "spark.read.parquet(path+'/products').toPandas().tail(2)"
   ]
  },
  {
   "cell_type": "code",
   "execution_count": 0,
   "metadata": {
    "application/vnd.databricks.v1+cell": {
     "cellMetadata": {
      "byteLimit": 2048000,
      "rowLimit": 10000
     },
     "inputWidgets": {},
     "nuid": "b0282035-a857-484e-a51b-9f649a7a130a",
     "showTitle": false,
     "title": ""
    }
   },
   "outputs": [],
   "source": [
    "# deletando os dados\n",
    "Delete_jbdc_in_parquet(table_name='products',jdbc_properties=db_properties,path_parquet_table=f'{path}/products',col_id='product_code')"
   ]
  },
  {
   "cell_type": "code",
   "execution_count": 0,
   "metadata": {
    "application/vnd.databricks.v1+cell": {
     "cellMetadata": {
      "byteLimit": 2048000,
      "rowLimit": 10000
     },
     "inputWidgets": {},
     "nuid": "39e2f305-4456-4057-80de-0f3c18abbb93",
     "showTitle": false,
     "title": ""
    }
   },
   "outputs": [
    {
     "output_type": "stream",
     "name": "stderr",
     "output_type": "stream",
     "text": [
      "/databricks/spark/python/pyspark/sql/pandas/utils.py:124: UserWarning: The conversion of DecimalType columns is inefficient and may take a long time. Column names: [buy_price, msrp] If those columns are not necessary, you may consider dropping them or converting to primitive types before the conversion.\n  warnings.warn(\n"
     ]
    },
    {
     "output_type": "display_data",
     "data": {
      "text/html": [
       "<div>\n",
       "<style scoped>\n",
       "    .dataframe tbody tr th:only-of-type {\n",
       "        vertical-align: middle;\n",
       "    }\n",
       "\n",
       "    .dataframe tbody tr th {\n",
       "        vertical-align: top;\n",
       "    }\n",
       "\n",
       "    .dataframe thead th {\n",
       "        text-align: right;\n",
       "    }\n",
       "</style>\n",
       "<table border=\"1\" class=\"dataframe\">\n",
       "  <thead>\n",
       "    <tr style=\"text-align: right;\">\n",
       "      <th></th>\n",
       "      <th>product_code</th>\n",
       "      <th>product_name</th>\n",
       "      <th>product_line</th>\n",
       "      <th>product_scale</th>\n",
       "      <th>product_vendor</th>\n",
       "      <th>product_description</th>\n",
       "      <th>quantity_in_stock</th>\n",
       "      <th>buy_price</th>\n",
       "      <th>msrp</th>\n",
       "    </tr>\n",
       "  </thead>\n",
       "  <tbody>\n",
       "    <tr>\n",
       "      <th>108</th>\n",
       "      <td>S700_4002</td>\n",
       "      <td>American Airlines: MD-11S</td>\n",
       "      <td>Planes</td>\n",
       "      <td>1:700</td>\n",
       "      <td>Second Gear Diecast</td>\n",
       "      <td>Polished finish. Exact replia with official lo...</td>\n",
       "      <td>8820</td>\n",
       "      <td>36.27</td>\n",
       "      <td>74.03</td>\n",
       "    </tr>\n",
       "    <tr>\n",
       "      <th>109</th>\n",
       "      <td>S72_3212</td>\n",
       "      <td>Pont Yacht</td>\n",
       "      <td>Ships</td>\n",
       "      <td>1:72</td>\n",
       "      <td>Unimax Art Galleries</td>\n",
       "      <td>Measures 38 inches Long x 33 3/4 inches High. ...</td>\n",
       "      <td>414</td>\n",
       "      <td>33.30</td>\n",
       "      <td>54.60</td>\n",
       "    </tr>\n",
       "  </tbody>\n",
       "</table>\n",
       "</div>"
      ]
     },
     "metadata": {
      "application/vnd.databricks.v1+output": {
       "addedWidgets": {},
       "arguments": {},
       "data": "<div>\n<style scoped>\n    .dataframe tbody tr th:only-of-type {\n        vertical-align: middle;\n    }\n\n    .dataframe tbody tr th {\n        vertical-align: top;\n    }\n\n    .dataframe thead th {\n        text-align: right;\n    }\n</style>\n<table border=\"1\" class=\"dataframe\">\n  <thead>\n    <tr style=\"text-align: right;\">\n      <th></th>\n      <th>product_code</th>\n      <th>product_name</th>\n      <th>product_line</th>\n      <th>product_scale</th>\n      <th>product_vendor</th>\n      <th>product_description</th>\n      <th>quantity_in_stock</th>\n      <th>buy_price</th>\n      <th>msrp</th>\n    </tr>\n  </thead>\n  <tbody>\n    <tr>\n      <th>108</th>\n      <td>S700_4002</td>\n      <td>American Airlines: MD-11S</td>\n      <td>Planes</td>\n      <td>1:700</td>\n      <td>Second Gear Diecast</td>\n      <td>Polished finish. Exact replia with official lo...</td>\n      <td>8820</td>\n      <td>36.27</td>\n      <td>74.03</td>\n    </tr>\n    <tr>\n      <th>109</th>\n      <td>S72_3212</td>\n      <td>Pont Yacht</td>\n      <td>Ships</td>\n      <td>1:72</td>\n      <td>Unimax Art Galleries</td>\n      <td>Measures 38 inches Long x 33 3/4 inches High. ...</td>\n      <td>414</td>\n      <td>33.30</td>\n      <td>54.60</td>\n    </tr>\n  </tbody>\n</table>\n</div>",
       "datasetInfos": [],
       "metadata": {},
       "removedWidgets": [],
       "textData": null,
       "type": "htmlSandbox"
      }
     },
     "output_type": "display_data"
    }
   ],
   "source": [
    "# visualizando depois da exclusão dos dados\n",
    "spark.read.parquet(path+'/products').toPandas().tail(2)"
   ]
  },
  {
   "cell_type": "markdown",
   "metadata": {
    "application/vnd.databricks.v1+cell": {
     "cellMetadata": {
      "byteLimit": 2048000,
      "rowLimit": 10000
     },
     "inputWidgets": {},
     "nuid": "af4f4bd2-0118-4934-8f74-a2a5e28eb26d",
     "showTitle": false,
     "title": ""
    }
   },
   "source": [
    "### __*Análise dos Itens solicitados*__"
   ]
  },
  {
   "cell_type": "markdown",
   "metadata": {
    "application/vnd.databricks.v1+cell": {
     "cellMetadata": {
      "byteLimit": 2048000,
      "rowLimit": 10000
     },
     "inputWidgets": {},
     "nuid": "8aa5da02-3df2-4d11-9f5f-5f95dc576d26",
     "showTitle": false,
     "title": ""
    }
   },
   "source": [
    "#### __*Qual país possui a maior quantidade de itens cancelados?*__"
   ]
  },
  {
   "cell_type": "markdown",
   "metadata": {
    "application/vnd.databricks.v1+cell": {
     "cellMetadata": {
      "byteLimit": 2048000,
      "rowLimit": 10000
     },
     "inputWidgets": {},
     "nuid": "baed0d7b-04cd-410e-9dd5-bdd7cfdf3a21",
     "showTitle": false,
     "title": ""
    }
   },
   "source": [
    "__*Carregando as tabelas 'customers' e 'orders' com informações dos clientes e dos pedidos.*__"
   ]
  },
  {
   "cell_type": "code",
   "execution_count": 0,
   "metadata": {
    "application/vnd.databricks.v1+cell": {
     "cellMetadata": {
      "byteLimit": 2048000,
      "rowLimit": 10000
     },
     "inputWidgets": {},
     "nuid": "9bf17822-1c0d-47fc-aef9-10501b1f974d",
     "showTitle": false,
     "title": ""
    }
   },
   "outputs": [
    {
     "output_type": "stream",
     "name": "stderr",
     "output_type": "stream",
     "text": [
      "/databricks/spark/python/pyspark/sql/pandas/utils.py:124: UserWarning: The conversion of DecimalType columns is inefficient and may take a long time. Column names: [credit_limit] If those columns are not necessary, you may consider dropping them or converting to primitive types before the conversion.\n  warnings.warn(\n"
     ]
    },
    {
     "output_type": "display_data",
     "data": {
      "text/html": [
       "<div>\n",
       "<style scoped>\n",
       "    .dataframe tbody tr th:only-of-type {\n",
       "        vertical-align: middle;\n",
       "    }\n",
       "\n",
       "    .dataframe tbody tr th {\n",
       "        vertical-align: top;\n",
       "    }\n",
       "\n",
       "    .dataframe thead th {\n",
       "        text-align: right;\n",
       "    }\n",
       "</style>\n",
       "<table border=\"1\" class=\"dataframe\">\n",
       "  <thead>\n",
       "    <tr style=\"text-align: right;\">\n",
       "      <th></th>\n",
       "      <th>customer_number</th>\n",
       "      <th>customer_name</th>\n",
       "      <th>contact_last_name</th>\n",
       "      <th>contact_first_name</th>\n",
       "      <th>phone</th>\n",
       "      <th>address_line1</th>\n",
       "      <th>address_line2</th>\n",
       "      <th>city</th>\n",
       "      <th>state</th>\n",
       "      <th>postal_code</th>\n",
       "      <th>country</th>\n",
       "      <th>sales_rep_employee_number</th>\n",
       "      <th>credit_limit</th>\n",
       "    </tr>\n",
       "  </thead>\n",
       "  <tbody>\n",
       "    <tr>\n",
       "      <th>0</th>\n",
       "      <td>103</td>\n",
       "      <td>Jake</td>\n",
       "      <td>King</td>\n",
       "      <td>Carine</td>\n",
       "      <td>40.32.2555</td>\n",
       "      <td>54, rue Royale</td>\n",
       "      <td>None</td>\n",
       "      <td>Nantes</td>\n",
       "      <td>Victoria</td>\n",
       "      <td>44000</td>\n",
       "      <td>France</td>\n",
       "      <td>1370.0</td>\n",
       "      <td>21000.00</td>\n",
       "    </tr>\n",
       "    <tr>\n",
       "      <th>1</th>\n",
       "      <td>112</td>\n",
       "      <td>Signal Gift Store</td>\n",
       "      <td>King</td>\n",
       "      <td>Jean</td>\n",
       "      <td>7025551838</td>\n",
       "      <td>8489 Strong St.</td>\n",
       "      <td>None</td>\n",
       "      <td>Las Vegas</td>\n",
       "      <td>New York</td>\n",
       "      <td>83030</td>\n",
       "      <td>USA</td>\n",
       "      <td>1166.0</td>\n",
       "      <td>71800.00</td>\n",
       "    </tr>\n",
       "    <tr>\n",
       "      <th>2</th>\n",
       "      <td>114</td>\n",
       "      <td>Australian Collectors, Co.</td>\n",
       "      <td>Ferguson</td>\n",
       "      <td>Peter Sr.</td>\n",
       "      <td>03 9520 4555</td>\n",
       "      <td>636 St Kilda Road</td>\n",
       "      <td>Level 3</td>\n",
       "      <td>Melbourne</td>\n",
       "      <td>Victoria</td>\n",
       "      <td>3004</td>\n",
       "      <td>Australia</td>\n",
       "      <td>1611.0</td>\n",
       "      <td>117300.00</td>\n",
       "    </tr>\n",
       "    <tr>\n",
       "      <th>3</th>\n",
       "      <td>119</td>\n",
       "      <td>La Rochelle Gifts</td>\n",
       "      <td>Labrune</td>\n",
       "      <td>Janine</td>\n",
       "      <td>40.67.8555</td>\n",
       "      <td>67, rue des Cinquante Otages</td>\n",
       "      <td>None</td>\n",
       "      <td>Nantes</td>\n",
       "      <td>None</td>\n",
       "      <td>44000</td>\n",
       "      <td>France</td>\n",
       "      <td>1370.0</td>\n",
       "      <td>118200.00</td>\n",
       "    </tr>\n",
       "    <tr>\n",
       "      <th>4</th>\n",
       "      <td>121</td>\n",
       "      <td>Baane Mini Imports</td>\n",
       "      <td>Bergulfsen</td>\n",
       "      <td>Jonas</td>\n",
       "      <td>07-98 9555</td>\n",
       "      <td>Erling Skakkes gate 78</td>\n",
       "      <td>None</td>\n",
       "      <td>Stavern</td>\n",
       "      <td>None</td>\n",
       "      <td>4110</td>\n",
       "      <td>Norway</td>\n",
       "      <td>1504.0</td>\n",
       "      <td>81700.00</td>\n",
       "    </tr>\n",
       "  </tbody>\n",
       "</table>\n",
       "</div>"
      ]
     },
     "metadata": {
      "application/vnd.databricks.v1+output": {
       "addedWidgets": {},
       "arguments": {},
       "data": "<div>\n<style scoped>\n    .dataframe tbody tr th:only-of-type {\n        vertical-align: middle;\n    }\n\n    .dataframe tbody tr th {\n        vertical-align: top;\n    }\n\n    .dataframe thead th {\n        text-align: right;\n    }\n</style>\n<table border=\"1\" class=\"dataframe\">\n  <thead>\n    <tr style=\"text-align: right;\">\n      <th></th>\n      <th>customer_number</th>\n      <th>customer_name</th>\n      <th>contact_last_name</th>\n      <th>contact_first_name</th>\n      <th>phone</th>\n      <th>address_line1</th>\n      <th>address_line2</th>\n      <th>city</th>\n      <th>state</th>\n      <th>postal_code</th>\n      <th>country</th>\n      <th>sales_rep_employee_number</th>\n      <th>credit_limit</th>\n    </tr>\n  </thead>\n  <tbody>\n    <tr>\n      <th>0</th>\n      <td>103</td>\n      <td>Jake</td>\n      <td>King</td>\n      <td>Carine</td>\n      <td>40.32.2555</td>\n      <td>54, rue Royale</td>\n      <td>None</td>\n      <td>Nantes</td>\n      <td>Victoria</td>\n      <td>44000</td>\n      <td>France</td>\n      <td>1370.0</td>\n      <td>21000.00</td>\n    </tr>\n    <tr>\n      <th>1</th>\n      <td>112</td>\n      <td>Signal Gift Store</td>\n      <td>King</td>\n      <td>Jean</td>\n      <td>7025551838</td>\n      <td>8489 Strong St.</td>\n      <td>None</td>\n      <td>Las Vegas</td>\n      <td>New York</td>\n      <td>83030</td>\n      <td>USA</td>\n      <td>1166.0</td>\n      <td>71800.00</td>\n    </tr>\n    <tr>\n      <th>2</th>\n      <td>114</td>\n      <td>Australian Collectors, Co.</td>\n      <td>Ferguson</td>\n      <td>Peter Sr.</td>\n      <td>03 9520 4555</td>\n      <td>636 St Kilda Road</td>\n      <td>Level 3</td>\n      <td>Melbourne</td>\n      <td>Victoria</td>\n      <td>3004</td>\n      <td>Australia</td>\n      <td>1611.0</td>\n      <td>117300.00</td>\n    </tr>\n    <tr>\n      <th>3</th>\n      <td>119</td>\n      <td>La Rochelle Gifts</td>\n      <td>Labrune</td>\n      <td>Janine</td>\n      <td>40.67.8555</td>\n      <td>67, rue des Cinquante Otages</td>\n      <td>None</td>\n      <td>Nantes</td>\n      <td>None</td>\n      <td>44000</td>\n      <td>France</td>\n      <td>1370.0</td>\n      <td>118200.00</td>\n    </tr>\n    <tr>\n      <th>4</th>\n      <td>121</td>\n      <td>Baane Mini Imports</td>\n      <td>Bergulfsen</td>\n      <td>Jonas</td>\n      <td>07-98 9555</td>\n      <td>Erling Skakkes gate 78</td>\n      <td>None</td>\n      <td>Stavern</td>\n      <td>None</td>\n      <td>4110</td>\n      <td>Norway</td>\n      <td>1504.0</td>\n      <td>81700.00</td>\n    </tr>\n  </tbody>\n</table>\n</div>",
       "datasetInfos": [],
       "metadata": {},
       "removedWidgets": [],
       "textData": null,
       "type": "htmlSandbox"
      }
     },
     "output_type": "display_data"
    }
   ],
   "source": [
    "df_customers = spark.read.parquet(f'{path}/customers')\n",
    "df_customers.toPandas().head(5)"
   ]
  },
  {
   "cell_type": "code",
   "execution_count": 0,
   "metadata": {
    "application/vnd.databricks.v1+cell": {
     "cellMetadata": {
      "byteLimit": 2048000,
      "rowLimit": 10000
     },
     "inputWidgets": {},
     "nuid": "84a090fb-e0d1-464a-a6b3-533118256ccf",
     "showTitle": false,
     "title": ""
    }
   },
   "outputs": [
    {
     "output_type": "display_data",
     "data": {
      "text/html": [
       "<div>\n",
       "<style scoped>\n",
       "    .dataframe tbody tr th:only-of-type {\n",
       "        vertical-align: middle;\n",
       "    }\n",
       "\n",
       "    .dataframe tbody tr th {\n",
       "        vertical-align: top;\n",
       "    }\n",
       "\n",
       "    .dataframe thead th {\n",
       "        text-align: right;\n",
       "    }\n",
       "</style>\n",
       "<table border=\"1\" class=\"dataframe\">\n",
       "  <thead>\n",
       "    <tr style=\"text-align: right;\">\n",
       "      <th></th>\n",
       "      <th>order_number</th>\n",
       "      <th>order_date</th>\n",
       "      <th>required_date</th>\n",
       "      <th>shipped_date</th>\n",
       "      <th>status</th>\n",
       "      <th>comments</th>\n",
       "      <th>customer_number</th>\n",
       "    </tr>\n",
       "  </thead>\n",
       "  <tbody>\n",
       "    <tr>\n",
       "      <th>0</th>\n",
       "      <td>10100</td>\n",
       "      <td>2003-01-06</td>\n",
       "      <td>2003-01-13</td>\n",
       "      <td>2003-01-10</td>\n",
       "      <td>Resolved</td>\n",
       "      <td>None</td>\n",
       "      <td>363</td>\n",
       "    </tr>\n",
       "    <tr>\n",
       "      <th>1</th>\n",
       "      <td>10101</td>\n",
       "      <td>2003-01-09</td>\n",
       "      <td>2003-01-18</td>\n",
       "      <td>2003-01-11</td>\n",
       "      <td>Shipped</td>\n",
       "      <td>Check on availability.</td>\n",
       "      <td>128</td>\n",
       "    </tr>\n",
       "    <tr>\n",
       "      <th>2</th>\n",
       "      <td>10102</td>\n",
       "      <td>2003-01-10</td>\n",
       "      <td>2003-01-18</td>\n",
       "      <td>2003-01-14</td>\n",
       "      <td>Shipped</td>\n",
       "      <td></td>\n",
       "      <td>181</td>\n",
       "    </tr>\n",
       "    <tr>\n",
       "      <th>3</th>\n",
       "      <td>10103</td>\n",
       "      <td>2003-01-29</td>\n",
       "      <td>2003-02-07</td>\n",
       "      <td>2003-02-02</td>\n",
       "      <td>Shipped</td>\n",
       "      <td>None</td>\n",
       "      <td>121</td>\n",
       "    </tr>\n",
       "    <tr>\n",
       "      <th>4</th>\n",
       "      <td>10104</td>\n",
       "      <td>2003-01-31</td>\n",
       "      <td>2003-02-09</td>\n",
       "      <td>2003-02-01</td>\n",
       "      <td>Shipped</td>\n",
       "      <td>None</td>\n",
       "      <td>141</td>\n",
       "    </tr>\n",
       "  </tbody>\n",
       "</table>\n",
       "</div>"
      ]
     },
     "metadata": {
      "application/vnd.databricks.v1+output": {
       "addedWidgets": {},
       "arguments": {},
       "data": "<div>\n<style scoped>\n    .dataframe tbody tr th:only-of-type {\n        vertical-align: middle;\n    }\n\n    .dataframe tbody tr th {\n        vertical-align: top;\n    }\n\n    .dataframe thead th {\n        text-align: right;\n    }\n</style>\n<table border=\"1\" class=\"dataframe\">\n  <thead>\n    <tr style=\"text-align: right;\">\n      <th></th>\n      <th>order_number</th>\n      <th>order_date</th>\n      <th>required_date</th>\n      <th>shipped_date</th>\n      <th>status</th>\n      <th>comments</th>\n      <th>customer_number</th>\n    </tr>\n  </thead>\n  <tbody>\n    <tr>\n      <th>0</th>\n      <td>10100</td>\n      <td>2003-01-06</td>\n      <td>2003-01-13</td>\n      <td>2003-01-10</td>\n      <td>Resolved</td>\n      <td>None</td>\n      <td>363</td>\n    </tr>\n    <tr>\n      <th>1</th>\n      <td>10101</td>\n      <td>2003-01-09</td>\n      <td>2003-01-18</td>\n      <td>2003-01-11</td>\n      <td>Shipped</td>\n      <td>Check on availability.</td>\n      <td>128</td>\n    </tr>\n    <tr>\n      <th>2</th>\n      <td>10102</td>\n      <td>2003-01-10</td>\n      <td>2003-01-18</td>\n      <td>2003-01-14</td>\n      <td>Shipped</td>\n      <td></td>\n      <td>181</td>\n    </tr>\n    <tr>\n      <th>3</th>\n      <td>10103</td>\n      <td>2003-01-29</td>\n      <td>2003-02-07</td>\n      <td>2003-02-02</td>\n      <td>Shipped</td>\n      <td>None</td>\n      <td>121</td>\n    </tr>\n    <tr>\n      <th>4</th>\n      <td>10104</td>\n      <td>2003-01-31</td>\n      <td>2003-02-09</td>\n      <td>2003-02-01</td>\n      <td>Shipped</td>\n      <td>None</td>\n      <td>141</td>\n    </tr>\n  </tbody>\n</table>\n</div>",
       "datasetInfos": [],
       "metadata": {},
       "removedWidgets": [],
       "textData": null,
       "type": "htmlSandbox"
      }
     },
     "output_type": "display_data"
    }
   ],
   "source": [
    "df_orders = spark.read.parquet(f'{path}/orders')\n",
    "df_orders.toPandas().head(5)"
   ]
  },
  {
   "cell_type": "markdown",
   "metadata": {
    "application/vnd.databricks.v1+cell": {
     "cellMetadata": {
      "byteLimit": 2048000,
      "rowLimit": 10000
     },
     "inputWidgets": {},
     "nuid": "3c287372-6eea-424f-a0ad-e83403c0940e",
     "showTitle": false,
     "title": ""
    }
   },
   "source": [
    "***Join entre as duas tabelas.***"
   ]
  },
  {
   "cell_type": "code",
   "execution_count": 0,
   "metadata": {
    "application/vnd.databricks.v1+cell": {
     "cellMetadata": {
      "byteLimit": 2048000,
      "rowLimit": 10000
     },
     "inputWidgets": {},
     "nuid": "d23e9b02-4422-4588-b1d6-60edd6633bfc",
     "showTitle": false,
     "title": ""
    }
   },
   "outputs": [
    {
     "output_type": "stream",
     "name": "stderr",
     "output_type": "stream",
     "text": [
      "/databricks/spark/python/pyspark/sql/pandas/utils.py:124: UserWarning: The conversion of DecimalType columns is inefficient and may take a long time. Column names: [credit_limit] If those columns are not necessary, you may consider dropping them or converting to primitive types before the conversion.\n  warnings.warn(\n"
     ]
    },
    {
     "output_type": "display_data",
     "data": {
      "text/html": [
       "<div>\n",
       "<style scoped>\n",
       "    .dataframe tbody tr th:only-of-type {\n",
       "        vertical-align: middle;\n",
       "    }\n",
       "\n",
       "    .dataframe tbody tr th {\n",
       "        vertical-align: top;\n",
       "    }\n",
       "\n",
       "    .dataframe thead th {\n",
       "        text-align: right;\n",
       "    }\n",
       "</style>\n",
       "<table border=\"1\" class=\"dataframe\">\n",
       "  <thead>\n",
       "    <tr style=\"text-align: right;\">\n",
       "      <th></th>\n",
       "      <th>customer_number</th>\n",
       "      <th>order_number</th>\n",
       "      <th>order_date</th>\n",
       "      <th>required_date</th>\n",
       "      <th>shipped_date</th>\n",
       "      <th>status</th>\n",
       "      <th>comments</th>\n",
       "      <th>customer_name</th>\n",
       "      <th>contact_last_name</th>\n",
       "      <th>contact_first_name</th>\n",
       "      <th>phone</th>\n",
       "      <th>address_line1</th>\n",
       "      <th>address_line2</th>\n",
       "      <th>city</th>\n",
       "      <th>state</th>\n",
       "      <th>postal_code</th>\n",
       "      <th>country</th>\n",
       "      <th>sales_rep_employee_number</th>\n",
       "      <th>credit_limit</th>\n",
       "    </tr>\n",
       "  </thead>\n",
       "  <tbody>\n",
       "    <tr>\n",
       "      <th>0</th>\n",
       "      <td>103</td>\n",
       "      <td>10345</td>\n",
       "      <td>2004-11-25</td>\n",
       "      <td>2004-12-01</td>\n",
       "      <td>2004-11-26</td>\n",
       "      <td>Shipped</td>\n",
       "      <td>None</td>\n",
       "      <td>Jake</td>\n",
       "      <td>King</td>\n",
       "      <td>Carine</td>\n",
       "      <td>40.32.2555</td>\n",
       "      <td>54, rue Royale</td>\n",
       "      <td>None</td>\n",
       "      <td>Nantes</td>\n",
       "      <td>Victoria</td>\n",
       "      <td>44000</td>\n",
       "      <td>France</td>\n",
       "      <td>1370</td>\n",
       "      <td>21000.00</td>\n",
       "    </tr>\n",
       "    <tr>\n",
       "      <th>1</th>\n",
       "      <td>103</td>\n",
       "      <td>10298</td>\n",
       "      <td>2004-09-27</td>\n",
       "      <td>2004-10-05</td>\n",
       "      <td>2004-10-01</td>\n",
       "      <td>Shipped</td>\n",
       "      <td>None</td>\n",
       "      <td>Jake</td>\n",
       "      <td>King</td>\n",
       "      <td>Carine</td>\n",
       "      <td>40.32.2555</td>\n",
       "      <td>54, rue Royale</td>\n",
       "      <td>None</td>\n",
       "      <td>Nantes</td>\n",
       "      <td>Victoria</td>\n",
       "      <td>44000</td>\n",
       "      <td>France</td>\n",
       "      <td>1370</td>\n",
       "      <td>21000.00</td>\n",
       "    </tr>\n",
       "    <tr>\n",
       "      <th>2</th>\n",
       "      <td>103</td>\n",
       "      <td>10123</td>\n",
       "      <td>2003-05-20</td>\n",
       "      <td>2003-05-29</td>\n",
       "      <td>2003-05-22</td>\n",
       "      <td>Shipped</td>\n",
       "      <td>None</td>\n",
       "      <td>Jake</td>\n",
       "      <td>King</td>\n",
       "      <td>Carine</td>\n",
       "      <td>40.32.2555</td>\n",
       "      <td>54, rue Royale</td>\n",
       "      <td>None</td>\n",
       "      <td>Nantes</td>\n",
       "      <td>Victoria</td>\n",
       "      <td>44000</td>\n",
       "      <td>France</td>\n",
       "      <td>1370</td>\n",
       "      <td>21000.00</td>\n",
       "    </tr>\n",
       "    <tr>\n",
       "      <th>3</th>\n",
       "      <td>112</td>\n",
       "      <td>10346</td>\n",
       "      <td>2004-11-29</td>\n",
       "      <td>2004-12-05</td>\n",
       "      <td>2004-11-30</td>\n",
       "      <td>Shipped</td>\n",
       "      <td>None</td>\n",
       "      <td>Signal Gift Store</td>\n",
       "      <td>King</td>\n",
       "      <td>Jean</td>\n",
       "      <td>7025551838</td>\n",
       "      <td>8489 Strong St.</td>\n",
       "      <td>None</td>\n",
       "      <td>Las Vegas</td>\n",
       "      <td>New York</td>\n",
       "      <td>83030</td>\n",
       "      <td>USA</td>\n",
       "      <td>1166</td>\n",
       "      <td>71800.00</td>\n",
       "    </tr>\n",
       "    <tr>\n",
       "      <th>4</th>\n",
       "      <td>112</td>\n",
       "      <td>10278</td>\n",
       "      <td>2004-08-06</td>\n",
       "      <td>2004-08-16</td>\n",
       "      <td>2004-08-09</td>\n",
       "      <td>Shipped</td>\n",
       "      <td>None</td>\n",
       "      <td>Signal Gift Store</td>\n",
       "      <td>King</td>\n",
       "      <td>Jean</td>\n",
       "      <td>7025551838</td>\n",
       "      <td>8489 Strong St.</td>\n",
       "      <td>None</td>\n",
       "      <td>Las Vegas</td>\n",
       "      <td>New York</td>\n",
       "      <td>83030</td>\n",
       "      <td>USA</td>\n",
       "      <td>1166</td>\n",
       "      <td>71800.00</td>\n",
       "    </tr>\n",
       "    <tr>\n",
       "      <th>...</th>\n",
       "      <td>...</td>\n",
       "      <td>...</td>\n",
       "      <td>...</td>\n",
       "      <td>...</td>\n",
       "      <td>...</td>\n",
       "      <td>...</td>\n",
       "      <td>...</td>\n",
       "      <td>...</td>\n",
       "      <td>...</td>\n",
       "      <td>...</td>\n",
       "      <td>...</td>\n",
       "      <td>...</td>\n",
       "      <td>...</td>\n",
       "      <td>...</td>\n",
       "      <td>...</td>\n",
       "      <td>...</td>\n",
       "      <td>...</td>\n",
       "      <td>...</td>\n",
       "      <td>...</td>\n",
       "    </tr>\n",
       "    <tr>\n",
       "      <th>324</th>\n",
       "      <td>495</td>\n",
       "      <td>10207</td>\n",
       "      <td>2003-12-09</td>\n",
       "      <td>2003-12-17</td>\n",
       "      <td>2003-12-11</td>\n",
       "      <td>Shipped</td>\n",
       "      <td>Check on availability.</td>\n",
       "      <td>Diecast</td>\n",
       "      <td>Franco</td>\n",
       "      <td>Dmitry</td>\n",
       "      <td>6175552555</td>\n",
       "      <td>6251 Ingle Ln.</td>\n",
       "      <td>None</td>\n",
       "      <td>Boston</td>\n",
       "      <td>MA</td>\n",
       "      <td>51003</td>\n",
       "      <td>USA</td>\n",
       "      <td>1188</td>\n",
       "      <td>85100.00</td>\n",
       "    </tr>\n",
       "    <tr>\n",
       "      <th>325</th>\n",
       "      <td>496</td>\n",
       "      <td>10399</td>\n",
       "      <td>2005-04-01</td>\n",
       "      <td>2005-04-12</td>\n",
       "      <td>2005-04-03</td>\n",
       "      <td>Shipped</td>\n",
       "      <td>None</td>\n",
       "      <td>Kelly Hello</td>\n",
       "      <td>Jason</td>\n",
       "      <td>Tony</td>\n",
       "      <td>+64 9 5555500</td>\n",
       "      <td>Arenales 2020</td>\n",
       "      <td>None</td>\n",
       "      <td>Auckland</td>\n",
       "      <td>None</td>\n",
       "      <td>None</td>\n",
       "      <td>New Zealand</td>\n",
       "      <td>1612</td>\n",
       "      <td>110000.00</td>\n",
       "    </tr>\n",
       "    <tr>\n",
       "      <th>326</th>\n",
       "      <td>496</td>\n",
       "      <td>10360</td>\n",
       "      <td>2004-12-16</td>\n",
       "      <td>2004-12-22</td>\n",
       "      <td>2004-12-18</td>\n",
       "      <td>Shipped</td>\n",
       "      <td>None</td>\n",
       "      <td>Kelly Hello</td>\n",
       "      <td>Jason</td>\n",
       "      <td>Tony</td>\n",
       "      <td>+64 9 5555500</td>\n",
       "      <td>Arenales 2020</td>\n",
       "      <td>None</td>\n",
       "      <td>Auckland</td>\n",
       "      <td>None</td>\n",
       "      <td>None</td>\n",
       "      <td>New Zealand</td>\n",
       "      <td>1612</td>\n",
       "      <td>110000.00</td>\n",
       "    </tr>\n",
       "    <tr>\n",
       "      <th>327</th>\n",
       "      <td>496</td>\n",
       "      <td>10179</td>\n",
       "      <td>2003-11-11</td>\n",
       "      <td>2003-11-17</td>\n",
       "      <td>2003-11-13</td>\n",
       "      <td>Cancelled</td>\n",
       "      <td>Customer cancelled due to urgent budgeting iss...</td>\n",
       "      <td>Kelly Hello</td>\n",
       "      <td>Jason</td>\n",
       "      <td>Tony</td>\n",
       "      <td>+64 9 5555500</td>\n",
       "      <td>Arenales 2020</td>\n",
       "      <td>None</td>\n",
       "      <td>Auckland</td>\n",
       "      <td>None</td>\n",
       "      <td>None</td>\n",
       "      <td>New Zealand</td>\n",
       "      <td>1612</td>\n",
       "      <td>110000.00</td>\n",
       "    </tr>\n",
       "    <tr>\n",
       "      <th>328</th>\n",
       "      <td>496</td>\n",
       "      <td>10138</td>\n",
       "      <td>2003-07-07</td>\n",
       "      <td>2003-07-16</td>\n",
       "      <td>2003-07-13</td>\n",
       "      <td>Shipped</td>\n",
       "      <td>None</td>\n",
       "      <td>Kelly Hello</td>\n",
       "      <td>Jason</td>\n",
       "      <td>Tony</td>\n",
       "      <td>+64 9 5555500</td>\n",
       "      <td>Arenales 2020</td>\n",
       "      <td>None</td>\n",
       "      <td>Auckland</td>\n",
       "      <td>None</td>\n",
       "      <td>None</td>\n",
       "      <td>New Zealand</td>\n",
       "      <td>1612</td>\n",
       "      <td>110000.00</td>\n",
       "    </tr>\n",
       "  </tbody>\n",
       "</table>\n",
       "<p>329 rows × 19 columns</p>\n",
       "</div>"
      ]
     },
     "metadata": {
      "application/vnd.databricks.v1+output": {
       "addedWidgets": {},
       "arguments": {},
       "data": "<div>\n<style scoped>\n    .dataframe tbody tr th:only-of-type {\n        vertical-align: middle;\n    }\n\n    .dataframe tbody tr th {\n        vertical-align: top;\n    }\n\n    .dataframe thead th {\n        text-align: right;\n    }\n</style>\n<table border=\"1\" class=\"dataframe\">\n  <thead>\n    <tr style=\"text-align: right;\">\n      <th></th>\n      <th>customer_number</th>\n      <th>order_number</th>\n      <th>order_date</th>\n      <th>required_date</th>\n      <th>shipped_date</th>\n      <th>status</th>\n      <th>comments</th>\n      <th>customer_name</th>\n      <th>contact_last_name</th>\n      <th>contact_first_name</th>\n      <th>phone</th>\n      <th>address_line1</th>\n      <th>address_line2</th>\n      <th>city</th>\n      <th>state</th>\n      <th>postal_code</th>\n      <th>country</th>\n      <th>sales_rep_employee_number</th>\n      <th>credit_limit</th>\n    </tr>\n  </thead>\n  <tbody>\n    <tr>\n      <th>0</th>\n      <td>103</td>\n      <td>10345</td>\n      <td>2004-11-25</td>\n      <td>2004-12-01</td>\n      <td>2004-11-26</td>\n      <td>Shipped</td>\n      <td>None</td>\n      <td>Jake</td>\n      <td>King</td>\n      <td>Carine</td>\n      <td>40.32.2555</td>\n      <td>54, rue Royale</td>\n      <td>None</td>\n      <td>Nantes</td>\n      <td>Victoria</td>\n      <td>44000</td>\n      <td>France</td>\n      <td>1370</td>\n      <td>21000.00</td>\n    </tr>\n    <tr>\n      <th>1</th>\n      <td>103</td>\n      <td>10298</td>\n      <td>2004-09-27</td>\n      <td>2004-10-05</td>\n      <td>2004-10-01</td>\n      <td>Shipped</td>\n      <td>None</td>\n      <td>Jake</td>\n      <td>King</td>\n      <td>Carine</td>\n      <td>40.32.2555</td>\n      <td>54, rue Royale</td>\n      <td>None</td>\n      <td>Nantes</td>\n      <td>Victoria</td>\n      <td>44000</td>\n      <td>France</td>\n      <td>1370</td>\n      <td>21000.00</td>\n    </tr>\n    <tr>\n      <th>2</th>\n      <td>103</td>\n      <td>10123</td>\n      <td>2003-05-20</td>\n      <td>2003-05-29</td>\n      <td>2003-05-22</td>\n      <td>Shipped</td>\n      <td>None</td>\n      <td>Jake</td>\n      <td>King</td>\n      <td>Carine</td>\n      <td>40.32.2555</td>\n      <td>54, rue Royale</td>\n      <td>None</td>\n      <td>Nantes</td>\n      <td>Victoria</td>\n      <td>44000</td>\n      <td>France</td>\n      <td>1370</td>\n      <td>21000.00</td>\n    </tr>\n    <tr>\n      <th>3</th>\n      <td>112</td>\n      <td>10346</td>\n      <td>2004-11-29</td>\n      <td>2004-12-05</td>\n      <td>2004-11-30</td>\n      <td>Shipped</td>\n      <td>None</td>\n      <td>Signal Gift Store</td>\n      <td>King</td>\n      <td>Jean</td>\n      <td>7025551838</td>\n      <td>8489 Strong St.</td>\n      <td>None</td>\n      <td>Las Vegas</td>\n      <td>New York</td>\n      <td>83030</td>\n      <td>USA</td>\n      <td>1166</td>\n      <td>71800.00</td>\n    </tr>\n    <tr>\n      <th>4</th>\n      <td>112</td>\n      <td>10278</td>\n      <td>2004-08-06</td>\n      <td>2004-08-16</td>\n      <td>2004-08-09</td>\n      <td>Shipped</td>\n      <td>None</td>\n      <td>Signal Gift Store</td>\n      <td>King</td>\n      <td>Jean</td>\n      <td>7025551838</td>\n      <td>8489 Strong St.</td>\n      <td>None</td>\n      <td>Las Vegas</td>\n      <td>New York</td>\n      <td>83030</td>\n      <td>USA</td>\n      <td>1166</td>\n      <td>71800.00</td>\n    </tr>\n    <tr>\n      <th>...</th>\n      <td>...</td>\n      <td>...</td>\n      <td>...</td>\n      <td>...</td>\n      <td>...</td>\n      <td>...</td>\n      <td>...</td>\n      <td>...</td>\n      <td>...</td>\n      <td>...</td>\n      <td>...</td>\n      <td>...</td>\n      <td>...</td>\n      <td>...</td>\n      <td>...</td>\n      <td>...</td>\n      <td>...</td>\n      <td>...</td>\n      <td>...</td>\n    </tr>\n    <tr>\n      <th>324</th>\n      <td>495</td>\n      <td>10207</td>\n      <td>2003-12-09</td>\n      <td>2003-12-17</td>\n      <td>2003-12-11</td>\n      <td>Shipped</td>\n      <td>Check on availability.</td>\n      <td>Diecast</td>\n      <td>Franco</td>\n      <td>Dmitry</td>\n      <td>6175552555</td>\n      <td>6251 Ingle Ln.</td>\n      <td>None</td>\n      <td>Boston</td>\n      <td>MA</td>\n      <td>51003</td>\n      <td>USA</td>\n      <td>1188</td>\n      <td>85100.00</td>\n    </tr>\n    <tr>\n      <th>325</th>\n      <td>496</td>\n      <td>10399</td>\n      <td>2005-04-01</td>\n      <td>2005-04-12</td>\n      <td>2005-04-03</td>\n      <td>Shipped</td>\n      <td>None</td>\n      <td>Kelly Hello</td>\n      <td>Jason</td>\n      <td>Tony</td>\n      <td>+64 9 5555500</td>\n      <td>Arenales 2020</td>\n      <td>None</td>\n      <td>Auckland</td>\n      <td>None</td>\n      <td>None</td>\n      <td>New Zealand</td>\n      <td>1612</td>\n      <td>110000.00</td>\n    </tr>\n    <tr>\n      <th>326</th>\n      <td>496</td>\n      <td>10360</td>\n      <td>2004-12-16</td>\n      <td>2004-12-22</td>\n      <td>2004-12-18</td>\n      <td>Shipped</td>\n      <td>None</td>\n      <td>Kelly Hello</td>\n      <td>Jason</td>\n      <td>Tony</td>\n      <td>+64 9 5555500</td>\n      <td>Arenales 2020</td>\n      <td>None</td>\n      <td>Auckland</td>\n      <td>None</td>\n      <td>None</td>\n      <td>New Zealand</td>\n      <td>1612</td>\n      <td>110000.00</td>\n    </tr>\n    <tr>\n      <th>327</th>\n      <td>496</td>\n      <td>10179</td>\n      <td>2003-11-11</td>\n      <td>2003-11-17</td>\n      <td>2003-11-13</td>\n      <td>Cancelled</td>\n      <td>Customer cancelled due to urgent budgeting iss...</td>\n      <td>Kelly Hello</td>\n      <td>Jason</td>\n      <td>Tony</td>\n      <td>+64 9 5555500</td>\n      <td>Arenales 2020</td>\n      <td>None</td>\n      <td>Auckland</td>\n      <td>None</td>\n      <td>None</td>\n      <td>New Zealand</td>\n      <td>1612</td>\n      <td>110000.00</td>\n    </tr>\n    <tr>\n      <th>328</th>\n      <td>496</td>\n      <td>10138</td>\n      <td>2003-07-07</td>\n      <td>2003-07-16</td>\n      <td>2003-07-13</td>\n      <td>Shipped</td>\n      <td>None</td>\n      <td>Kelly Hello</td>\n      <td>Jason</td>\n      <td>Tony</td>\n      <td>+64 9 5555500</td>\n      <td>Arenales 2020</td>\n      <td>None</td>\n      <td>Auckland</td>\n      <td>None</td>\n      <td>None</td>\n      <td>New Zealand</td>\n      <td>1612</td>\n      <td>110000.00</td>\n    </tr>\n  </tbody>\n</table>\n<p>329 rows × 19 columns</p>\n</div>",
       "datasetInfos": [],
       "metadata": {},
       "removedWidgets": [],
       "textData": null,
       "type": "htmlSandbox"
      }
     },
     "output_type": "display_data"
    }
   ],
   "source": [
    "df_join = df_orders.join(df_customers,on='customer_number',how='inner')\n",
    "df_join.toPandas()"
   ]
  },
  {
   "cell_type": "code",
   "execution_count": 0,
   "metadata": {
    "application/vnd.databricks.v1+cell": {
     "cellMetadata": {
      "byteLimit": 2048000,
      "rowLimit": 10000
     },
     "inputWidgets": {},
     "nuid": "a18f7c4a-c847-41a9-8797-2c43c5b26e5c",
     "showTitle": false,
     "title": ""
    }
   },
   "outputs": [
    {
     "output_type": "stream",
     "name": "stderr",
     "output_type": "stream",
     "text": [
      "/databricks/spark/python/pyspark/sql/pandas/utils.py:124: UserWarning: The conversion of DecimalType columns is inefficient and may take a long time. Column names: [credit_limit] If those columns are not necessary, you may consider dropping them or converting to primitive types before the conversion.\n  warnings.warn(\n"
     ]
    },
    {
     "output_type": "display_data",
     "data": {
      "text/html": [
       "<div>\n",
       "<style scoped>\n",
       "    .dataframe tbody tr th:only-of-type {\n",
       "        vertical-align: middle;\n",
       "    }\n",
       "\n",
       "    .dataframe tbody tr th {\n",
       "        vertical-align: top;\n",
       "    }\n",
       "\n",
       "    .dataframe thead th {\n",
       "        text-align: right;\n",
       "    }\n",
       "</style>\n",
       "<table border=\"1\" class=\"dataframe\">\n",
       "  <thead>\n",
       "    <tr style=\"text-align: right;\">\n",
       "      <th></th>\n",
       "      <th>customer_number</th>\n",
       "      <th>order_number</th>\n",
       "      <th>order_date</th>\n",
       "      <th>required_date</th>\n",
       "      <th>shipped_date</th>\n",
       "      <th>status</th>\n",
       "      <th>comments</th>\n",
       "      <th>customer_name</th>\n",
       "      <th>contact_last_name</th>\n",
       "      <th>contact_first_name</th>\n",
       "      <th>phone</th>\n",
       "      <th>address_line1</th>\n",
       "      <th>address_line2</th>\n",
       "      <th>city</th>\n",
       "      <th>state</th>\n",
       "      <th>postal_code</th>\n",
       "      <th>country</th>\n",
       "      <th>sales_rep_employee_number</th>\n",
       "      <th>credit_limit</th>\n",
       "    </tr>\n",
       "  </thead>\n",
       "  <tbody>\n",
       "    <tr>\n",
       "      <th>0</th>\n",
       "      <td>141</td>\n",
       "      <td>10104</td>\n",
       "      <td>2003-01-31</td>\n",
       "      <td>2003-02-09</td>\n",
       "      <td>2003-02-01</td>\n",
       "      <td>Shipped</td>\n",
       "      <td>None</td>\n",
       "      <td>Euro+ Shopping Channel</td>\n",
       "      <td>Freyre</td>\n",
       "      <td>Diego</td>\n",
       "      <td>(91) 555 94 44</td>\n",
       "      <td>C/ Moralzarzal, 86</td>\n",
       "      <td>None</td>\n",
       "      <td>Madrid</td>\n",
       "      <td>None</td>\n",
       "      <td>28034</td>\n",
       "      <td>Spain</td>\n",
       "      <td>1370</td>\n",
       "      <td>227600.00</td>\n",
       "    </tr>\n",
       "    <tr>\n",
       "      <th>1</th>\n",
       "      <td>211</td>\n",
       "      <td>10200</td>\n",
       "      <td>2003-12-01</td>\n",
       "      <td>2003-12-09</td>\n",
       "      <td>2003-12-06</td>\n",
       "      <td>Shipped</td>\n",
       "      <td>None</td>\n",
       "      <td>King Kong Collectables, Co.</td>\n",
       "      <td>Gao</td>\n",
       "      <td>Mike</td>\n",
       "      <td>+852 2251 1555</td>\n",
       "      <td>Bank of China Tower</td>\n",
       "      <td>1 Garden Road</td>\n",
       "      <td>Central Hong Kong</td>\n",
       "      <td>None</td>\n",
       "      <td>None</td>\n",
       "      <td>Hong Kong</td>\n",
       "      <td>1621</td>\n",
       "      <td>58600.00</td>\n",
       "    </tr>\n",
       "    <tr>\n",
       "      <th>2</th>\n",
       "      <td>321</td>\n",
       "      <td>10159</td>\n",
       "      <td>2003-10-10</td>\n",
       "      <td>2003-10-19</td>\n",
       "      <td>2003-10-16</td>\n",
       "      <td>Shipped</td>\n",
       "      <td>None</td>\n",
       "      <td>Corporate Gift Ideas Co.</td>\n",
       "      <td>Brown</td>\n",
       "      <td>Julie</td>\n",
       "      <td>6505551386</td>\n",
       "      <td>7734 Strong St.</td>\n",
       "      <td>None</td>\n",
       "      <td>San Francisco</td>\n",
       "      <td>CA</td>\n",
       "      <td>94217</td>\n",
       "      <td>USA</td>\n",
       "      <td>1165</td>\n",
       "      <td>105000.00</td>\n",
       "    </tr>\n",
       "    <tr>\n",
       "      <th>3</th>\n",
       "      <td>357</td>\n",
       "      <td>10202</td>\n",
       "      <td>2003-12-02</td>\n",
       "      <td>2003-12-09</td>\n",
       "      <td>2003-12-06</td>\n",
       "      <td>Shipped</td>\n",
       "      <td>None</td>\n",
       "      <td>GiftsForHim.com</td>\n",
       "      <td>MacKinlay</td>\n",
       "      <td>Wales</td>\n",
       "      <td>64-9-3763555</td>\n",
       "      <td>199 Great North Road</td>\n",
       "      <td>None</td>\n",
       "      <td>Auckland</td>\n",
       "      <td>None</td>\n",
       "      <td>None</td>\n",
       "      <td>New Zealand</td>\n",
       "      <td>1612</td>\n",
       "      <td>77700.00</td>\n",
       "    </tr>\n",
       "    <tr>\n",
       "      <th>4</th>\n",
       "      <td>124</td>\n",
       "      <td>10390</td>\n",
       "      <td>2005-03-04</td>\n",
       "      <td>2005-03-11</td>\n",
       "      <td>2005-03-07</td>\n",
       "      <td>Shipped</td>\n",
       "      <td>They want to reevaluate their terms agreement ...</td>\n",
       "      <td>Mini Gifts Distributors Ltd.</td>\n",
       "      <td>Nelson</td>\n",
       "      <td>Susan</td>\n",
       "      <td>4155551450</td>\n",
       "      <td>5677 Strong St.</td>\n",
       "      <td>None</td>\n",
       "      <td>San Rafael</td>\n",
       "      <td>CA</td>\n",
       "      <td>97562</td>\n",
       "      <td>USA</td>\n",
       "      <td>1165</td>\n",
       "      <td>210500.00</td>\n",
       "    </tr>\n",
       "  </tbody>\n",
       "</table>\n",
       "</div>"
      ]
     },
     "metadata": {
      "application/vnd.databricks.v1+output": {
       "addedWidgets": {},
       "arguments": {},
       "data": "<div>\n<style scoped>\n    .dataframe tbody tr th:only-of-type {\n        vertical-align: middle;\n    }\n\n    .dataframe tbody tr th {\n        vertical-align: top;\n    }\n\n    .dataframe thead th {\n        text-align: right;\n    }\n</style>\n<table border=\"1\" class=\"dataframe\">\n  <thead>\n    <tr style=\"text-align: right;\">\n      <th></th>\n      <th>customer_number</th>\n      <th>order_number</th>\n      <th>order_date</th>\n      <th>required_date</th>\n      <th>shipped_date</th>\n      <th>status</th>\n      <th>comments</th>\n      <th>customer_name</th>\n      <th>contact_last_name</th>\n      <th>contact_first_name</th>\n      <th>phone</th>\n      <th>address_line1</th>\n      <th>address_line2</th>\n      <th>city</th>\n      <th>state</th>\n      <th>postal_code</th>\n      <th>country</th>\n      <th>sales_rep_employee_number</th>\n      <th>credit_limit</th>\n    </tr>\n  </thead>\n  <tbody>\n    <tr>\n      <th>0</th>\n      <td>141</td>\n      <td>10104</td>\n      <td>2003-01-31</td>\n      <td>2003-02-09</td>\n      <td>2003-02-01</td>\n      <td>Shipped</td>\n      <td>None</td>\n      <td>Euro+ Shopping Channel</td>\n      <td>Freyre</td>\n      <td>Diego</td>\n      <td>(91) 555 94 44</td>\n      <td>C/ Moralzarzal, 86</td>\n      <td>None</td>\n      <td>Madrid</td>\n      <td>None</td>\n      <td>28034</td>\n      <td>Spain</td>\n      <td>1370</td>\n      <td>227600.00</td>\n    </tr>\n    <tr>\n      <th>1</th>\n      <td>211</td>\n      <td>10200</td>\n      <td>2003-12-01</td>\n      <td>2003-12-09</td>\n      <td>2003-12-06</td>\n      <td>Shipped</td>\n      <td>None</td>\n      <td>King Kong Collectables, Co.</td>\n      <td>Gao</td>\n      <td>Mike</td>\n      <td>+852 2251 1555</td>\n      <td>Bank of China Tower</td>\n      <td>1 Garden Road</td>\n      <td>Central Hong Kong</td>\n      <td>None</td>\n      <td>None</td>\n      <td>Hong Kong</td>\n      <td>1621</td>\n      <td>58600.00</td>\n    </tr>\n    <tr>\n      <th>2</th>\n      <td>321</td>\n      <td>10159</td>\n      <td>2003-10-10</td>\n      <td>2003-10-19</td>\n      <td>2003-10-16</td>\n      <td>Shipped</td>\n      <td>None</td>\n      <td>Corporate Gift Ideas Co.</td>\n      <td>Brown</td>\n      <td>Julie</td>\n      <td>6505551386</td>\n      <td>7734 Strong St.</td>\n      <td>None</td>\n      <td>San Francisco</td>\n      <td>CA</td>\n      <td>94217</td>\n      <td>USA</td>\n      <td>1165</td>\n      <td>105000.00</td>\n    </tr>\n    <tr>\n      <th>3</th>\n      <td>357</td>\n      <td>10202</td>\n      <td>2003-12-02</td>\n      <td>2003-12-09</td>\n      <td>2003-12-06</td>\n      <td>Shipped</td>\n      <td>None</td>\n      <td>GiftsForHim.com</td>\n      <td>MacKinlay</td>\n      <td>Wales</td>\n      <td>64-9-3763555</td>\n      <td>199 Great North Road</td>\n      <td>None</td>\n      <td>Auckland</td>\n      <td>None</td>\n      <td>None</td>\n      <td>New Zealand</td>\n      <td>1612</td>\n      <td>77700.00</td>\n    </tr>\n    <tr>\n      <th>4</th>\n      <td>124</td>\n      <td>10390</td>\n      <td>2005-03-04</td>\n      <td>2005-03-11</td>\n      <td>2005-03-07</td>\n      <td>Shipped</td>\n      <td>They want to reevaluate their terms agreement ...</td>\n      <td>Mini Gifts Distributors Ltd.</td>\n      <td>Nelson</td>\n      <td>Susan</td>\n      <td>4155551450</td>\n      <td>5677 Strong St.</td>\n      <td>None</td>\n      <td>San Rafael</td>\n      <td>CA</td>\n      <td>97562</td>\n      <td>USA</td>\n      <td>1165</td>\n      <td>210500.00</td>\n    </tr>\n  </tbody>\n</table>\n</div>",
       "datasetInfos": [],
       "metadata": {},
       "removedWidgets": [],
       "textData": null,
       "type": "htmlSandbox"
      }
     },
     "output_type": "display_data"
    }
   ],
   "source": [
    "df_join = df_join.dropDuplicates()\n",
    "df_join.toPandas().head(5)"
   ]
  },
  {
   "cell_type": "code",
   "execution_count": 0,
   "metadata": {
    "application/vnd.databricks.v1+cell": {
     "cellMetadata": {
      "byteLimit": 2048000,
      "rowLimit": 10000
     },
     "inputWidgets": {},
     "nuid": "5bd3341a-a405-42a7-9376-2b4ffe3c6e3f",
     "showTitle": false,
     "title": ""
    }
   },
   "outputs": [
    {
     "output_type": "display_data",
     "data": {
      "text/html": [
       "<div>\n",
       "<style scoped>\n",
       "    .dataframe tbody tr th:only-of-type {\n",
       "        vertical-align: middle;\n",
       "    }\n",
       "\n",
       "    .dataframe tbody tr th {\n",
       "        vertical-align: top;\n",
       "    }\n",
       "\n",
       "    .dataframe thead th {\n",
       "        text-align: right;\n",
       "    }\n",
       "</style>\n",
       "<table border=\"1\" class=\"dataframe\">\n",
       "  <thead>\n",
       "    <tr style=\"text-align: right;\">\n",
       "      <th></th>\n",
       "      <th>customer_number</th>\n",
       "      <th>order_number</th>\n",
       "      <th>order_date</th>\n",
       "      <th>status</th>\n",
       "      <th>country</th>\n",
       "    </tr>\n",
       "  </thead>\n",
       "  <tbody>\n",
       "    <tr>\n",
       "      <th>0</th>\n",
       "      <td>141</td>\n",
       "      <td>10104</td>\n",
       "      <td>2003-01-31</td>\n",
       "      <td>Shipped</td>\n",
       "      <td>Spain</td>\n",
       "    </tr>\n",
       "    <tr>\n",
       "      <th>1</th>\n",
       "      <td>211</td>\n",
       "      <td>10200</td>\n",
       "      <td>2003-12-01</td>\n",
       "      <td>Shipped</td>\n",
       "      <td>Hong Kong</td>\n",
       "    </tr>\n",
       "    <tr>\n",
       "      <th>2</th>\n",
       "      <td>321</td>\n",
       "      <td>10159</td>\n",
       "      <td>2003-10-10</td>\n",
       "      <td>Shipped</td>\n",
       "      <td>USA</td>\n",
       "    </tr>\n",
       "    <tr>\n",
       "      <th>3</th>\n",
       "      <td>357</td>\n",
       "      <td>10202</td>\n",
       "      <td>2003-12-02</td>\n",
       "      <td>Shipped</td>\n",
       "      <td>New Zealand</td>\n",
       "    </tr>\n",
       "    <tr>\n",
       "      <th>4</th>\n",
       "      <td>124</td>\n",
       "      <td>10390</td>\n",
       "      <td>2005-03-04</td>\n",
       "      <td>Shipped</td>\n",
       "      <td>USA</td>\n",
       "    </tr>\n",
       "    <tr>\n",
       "      <th>...</th>\n",
       "      <td>...</td>\n",
       "      <td>...</td>\n",
       "      <td>...</td>\n",
       "      <td>...</td>\n",
       "      <td>...</td>\n",
       "    </tr>\n",
       "    <tr>\n",
       "      <th>324</th>\n",
       "      <td>119</td>\n",
       "      <td>10425</td>\n",
       "      <td>2005-05-31</td>\n",
       "      <td>Shipped</td>\n",
       "      <td>France</td>\n",
       "    </tr>\n",
       "    <tr>\n",
       "      <th>325</th>\n",
       "      <td>239</td>\n",
       "      <td>10222</td>\n",
       "      <td>2004-02-19</td>\n",
       "      <td>Shipped</td>\n",
       "      <td>USA</td>\n",
       "    </tr>\n",
       "    <tr>\n",
       "      <th>326</th>\n",
       "      <td>350</td>\n",
       "      <td>10122</td>\n",
       "      <td>2003-05-08</td>\n",
       "      <td>Shipped</td>\n",
       "      <td>France</td>\n",
       "    </tr>\n",
       "    <tr>\n",
       "      <th>327</th>\n",
       "      <td>353</td>\n",
       "      <td>10343</td>\n",
       "      <td>2004-11-24</td>\n",
       "      <td>Shipped</td>\n",
       "      <td>France</td>\n",
       "    </tr>\n",
       "    <tr>\n",
       "      <th>328</th>\n",
       "      <td>344</td>\n",
       "      <td>10231</td>\n",
       "      <td>2004-03-19</td>\n",
       "      <td>Shipped</td>\n",
       "      <td>Spain</td>\n",
       "    </tr>\n",
       "  </tbody>\n",
       "</table>\n",
       "<p>329 rows × 5 columns</p>\n",
       "</div>"
      ]
     },
     "metadata": {
      "application/vnd.databricks.v1+output": {
       "addedWidgets": {},
       "arguments": {},
       "data": "<div>\n<style scoped>\n    .dataframe tbody tr th:only-of-type {\n        vertical-align: middle;\n    }\n\n    .dataframe tbody tr th {\n        vertical-align: top;\n    }\n\n    .dataframe thead th {\n        text-align: right;\n    }\n</style>\n<table border=\"1\" class=\"dataframe\">\n  <thead>\n    <tr style=\"text-align: right;\">\n      <th></th>\n      <th>customer_number</th>\n      <th>order_number</th>\n      <th>order_date</th>\n      <th>status</th>\n      <th>country</th>\n    </tr>\n  </thead>\n  <tbody>\n    <tr>\n      <th>0</th>\n      <td>141</td>\n      <td>10104</td>\n      <td>2003-01-31</td>\n      <td>Shipped</td>\n      <td>Spain</td>\n    </tr>\n    <tr>\n      <th>1</th>\n      <td>211</td>\n      <td>10200</td>\n      <td>2003-12-01</td>\n      <td>Shipped</td>\n      <td>Hong Kong</td>\n    </tr>\n    <tr>\n      <th>2</th>\n      <td>321</td>\n      <td>10159</td>\n      <td>2003-10-10</td>\n      <td>Shipped</td>\n      <td>USA</td>\n    </tr>\n    <tr>\n      <th>3</th>\n      <td>357</td>\n      <td>10202</td>\n      <td>2003-12-02</td>\n      <td>Shipped</td>\n      <td>New Zealand</td>\n    </tr>\n    <tr>\n      <th>4</th>\n      <td>124</td>\n      <td>10390</td>\n      <td>2005-03-04</td>\n      <td>Shipped</td>\n      <td>USA</td>\n    </tr>\n    <tr>\n      <th>...</th>\n      <td>...</td>\n      <td>...</td>\n      <td>...</td>\n      <td>...</td>\n      <td>...</td>\n    </tr>\n    <tr>\n      <th>324</th>\n      <td>119</td>\n      <td>10425</td>\n      <td>2005-05-31</td>\n      <td>Shipped</td>\n      <td>France</td>\n    </tr>\n    <tr>\n      <th>325</th>\n      <td>239</td>\n      <td>10222</td>\n      <td>2004-02-19</td>\n      <td>Shipped</td>\n      <td>USA</td>\n    </tr>\n    <tr>\n      <th>326</th>\n      <td>350</td>\n      <td>10122</td>\n      <td>2003-05-08</td>\n      <td>Shipped</td>\n      <td>France</td>\n    </tr>\n    <tr>\n      <th>327</th>\n      <td>353</td>\n      <td>10343</td>\n      <td>2004-11-24</td>\n      <td>Shipped</td>\n      <td>France</td>\n    </tr>\n    <tr>\n      <th>328</th>\n      <td>344</td>\n      <td>10231</td>\n      <td>2004-03-19</td>\n      <td>Shipped</td>\n      <td>Spain</td>\n    </tr>\n  </tbody>\n</table>\n<p>329 rows × 5 columns</p>\n</div>",
       "datasetInfos": [],
       "metadata": {},
       "removedWidgets": [],
       "textData": null,
       "type": "htmlSandbox"
      }
     },
     "output_type": "display_data"
    }
   ],
   "source": [
    "df_join = df_join.select('customer_number','order_number','order_date','status','country')\n",
    "df_join.toPandas()"
   ]
  },
  {
   "cell_type": "markdown",
   "metadata": {
    "application/vnd.databricks.v1+cell": {
     "cellMetadata": {
      "byteLimit": 2048000,
      "rowLimit": 10000
     },
     "inputWidgets": {},
     "nuid": "ca02f9f0-a198-4d2f-8631-8647355170c4",
     "showTitle": false,
     "title": ""
    }
   },
   "source": [
    "***Agrupando os paises com status cancelado***"
   ]
  },
  {
   "cell_type": "code",
   "execution_count": 0,
   "metadata": {
    "application/vnd.databricks.v1+cell": {
     "cellMetadata": {
      "byteLimit": 2048000,
      "rowLimit": 10000
     },
     "inputWidgets": {},
     "nuid": "4fa1e87d-a97e-4d74-9af5-04aa2aa04aa8",
     "showTitle": false,
     "title": ""
    }
   },
   "outputs": [
    {
     "output_type": "stream",
     "name": "stdout",
     "output_type": "stream",
     "text": [
      "+-----------+-----+\n|    country|count|\n+-----------+-----+\n|New Zealand|    2|\n|     Sweden|    1|\n|      Spain|    1|\n|        USA|    1|\n|         UK|    1|\n+-----------+-----+\n\n"
     ]
    }
   ],
   "source": [
    "df_join.filter(df_join.status == 'Cancelled').groupBy('country').count().orderBy(desc(\"count\")).show()"
   ]
  },
  {
   "cell_type": "markdown",
   "metadata": {
    "application/vnd.databricks.v1+cell": {
     "cellMetadata": {
      "byteLimit": 2048000,
      "rowLimit": 10000
     },
     "inputWidgets": {},
     "nuid": "9f194940-0b99-4f74-9f10-21de956ad5ad",
     "showTitle": false,
     "title": ""
    }
   },
   "source": [
    "***Portanto o país com o maior número de itens cancelados é a New Zealand***"
   ]
  },
  {
   "cell_type": "code",
   "execution_count": 0,
   "metadata": {
    "application/vnd.databricks.v1+cell": {
     "cellMetadata": {
      "byteLimit": 2048000,
      "rowLimit": 10000
     },
     "inputWidgets": {},
     "nuid": "e3933c1e-9fdd-4479-98b5-994f31991e11",
     "showTitle": false,
     "title": ""
    }
   },
   "outputs": [
    {
     "output_type": "stream",
     "name": "stdout",
     "output_type": "stream",
     "text": [
      "+-----------+-----+\n|    country|count|\n+-----------+-----+\n|New Zealand|    2|\n+-----------+-----+\nonly showing top 1 row\n\n"
     ]
    }
   ],
   "source": [
    "df_join.filter(df_join.status == 'Cancelled').groupBy('country').count().orderBy(desc(\"count\")).show(1)"
   ]
  },
  {
   "cell_type": "markdown",
   "metadata": {
    "application/vnd.databricks.v1+cell": {
     "cellMetadata": {
      "byteLimit": 2048000,
      "rowLimit": 10000
     },
     "inputWidgets": {},
     "nuid": "4b6445b3-a6a2-4145-8d88-feae106a4efd",
     "showTitle": false,
     "title": ""
    }
   },
   "source": [
    "#### __*Qual o faturamento da linha de produto mais vendido, considere como os itens Shipped, cujo o pedido foi realizado no ano de 2005?*__"
   ]
  },
  {
   "cell_type": "code",
   "execution_count": 0,
   "metadata": {
    "application/vnd.databricks.v1+cell": {
     "cellMetadata": {
      "byteLimit": 2048000,
      "rowLimit": 10000
     },
     "inputWidgets": {},
     "nuid": "c01fcaf7-c534-4693-af48-6c74fe7fe3d5",
     "showTitle": false,
     "title": ""
    }
   },
   "outputs": [],
   "source": [
    "df_orders = spark.read.parquet(f'{path}/orders')\n",
    "df_orderdetails = spark.read.parquet(f'{path}/orderdetails')\n",
    "df_products = spark.read.parquet(f'{path}/products')"
   ]
  },
  {
   "cell_type": "markdown",
   "metadata": {
    "application/vnd.databricks.v1+cell": {
     "cellMetadata": {
      "byteLimit": 2048000,
      "rowLimit": 10000
     },
     "inputWidgets": {},
     "nuid": "e39bffbe-91a1-47d7-85a6-16ce6828706a",
     "showTitle": false,
     "title": ""
    }
   },
   "source": [
    "***Primeiro vamos filtrar os pedidos do ano de 2005 e com status Shipped***"
   ]
  },
  {
   "cell_type": "code",
   "execution_count": 0,
   "metadata": {
    "application/vnd.databricks.v1+cell": {
     "cellMetadata": {
      "byteLimit": 2048000,
      "rowLimit": 10000
     },
     "inputWidgets": {},
     "nuid": "f914fc29-5927-43ce-aee7-5741ecf19bf6",
     "showTitle": false,
     "title": ""
    }
   },
   "outputs": [
    {
     "output_type": "display_data",
     "data": {
      "text/html": [
       "<div>\n",
       "<style scoped>\n",
       "    .dataframe tbody tr th:only-of-type {\n",
       "        vertical-align: middle;\n",
       "    }\n",
       "\n",
       "    .dataframe tbody tr th {\n",
       "        vertical-align: top;\n",
       "    }\n",
       "\n",
       "    .dataframe thead th {\n",
       "        text-align: right;\n",
       "    }\n",
       "</style>\n",
       "<table border=\"1\" class=\"dataframe\">\n",
       "  <thead>\n",
       "    <tr style=\"text-align: right;\">\n",
       "      <th></th>\n",
       "      <th>order_number</th>\n",
       "      <th>order_date</th>\n",
       "      <th>required_date</th>\n",
       "      <th>shipped_date</th>\n",
       "      <th>status</th>\n",
       "      <th>comments</th>\n",
       "      <th>customer_number</th>\n",
       "    </tr>\n",
       "  </thead>\n",
       "  <tbody>\n",
       "    <tr>\n",
       "      <th>0</th>\n",
       "      <td>10362</td>\n",
       "      <td>2005-01-05</td>\n",
       "      <td>2005-01-16</td>\n",
       "      <td>2005-01-10</td>\n",
       "      <td>Shipped</td>\n",
       "      <td>None</td>\n",
       "      <td>161</td>\n",
       "    </tr>\n",
       "    <tr>\n",
       "      <th>1</th>\n",
       "      <td>10363</td>\n",
       "      <td>2005-01-06</td>\n",
       "      <td>2005-01-12</td>\n",
       "      <td>2005-01-10</td>\n",
       "      <td>Shipped</td>\n",
       "      <td>None</td>\n",
       "      <td>334</td>\n",
       "    </tr>\n",
       "    <tr>\n",
       "      <th>2</th>\n",
       "      <td>10364</td>\n",
       "      <td>2005-01-06</td>\n",
       "      <td>2005-01-17</td>\n",
       "      <td>2005-01-09</td>\n",
       "      <td>Shipped</td>\n",
       "      <td>None</td>\n",
       "      <td>350</td>\n",
       "    </tr>\n",
       "    <tr>\n",
       "      <th>3</th>\n",
       "      <td>10365</td>\n",
       "      <td>2005-01-07</td>\n",
       "      <td>2005-01-18</td>\n",
       "      <td>2005-01-11</td>\n",
       "      <td>Shipped</td>\n",
       "      <td>None</td>\n",
       "      <td>320</td>\n",
       "    </tr>\n",
       "    <tr>\n",
       "      <th>4</th>\n",
       "      <td>10366</td>\n",
       "      <td>2005-01-10</td>\n",
       "      <td>2005-01-19</td>\n",
       "      <td>2005-01-12</td>\n",
       "      <td>Shipped</td>\n",
       "      <td>None</td>\n",
       "      <td>381</td>\n",
       "    </tr>\n",
       "    <tr>\n",
       "      <th>5</th>\n",
       "      <td>10368</td>\n",
       "      <td>2005-01-19</td>\n",
       "      <td>2005-01-27</td>\n",
       "      <td>2005-01-24</td>\n",
       "      <td>Shipped</td>\n",
       "      <td>Can we renegotiate this one?</td>\n",
       "      <td>124</td>\n",
       "    </tr>\n",
       "    <tr>\n",
       "      <th>6</th>\n",
       "      <td>10369</td>\n",
       "      <td>2005-01-20</td>\n",
       "      <td>2005-01-28</td>\n",
       "      <td>2005-01-24</td>\n",
       "      <td>Shipped</td>\n",
       "      <td>None</td>\n",
       "      <td>379</td>\n",
       "    </tr>\n",
       "    <tr>\n",
       "      <th>7</th>\n",
       "      <td>10370</td>\n",
       "      <td>2005-01-20</td>\n",
       "      <td>2005-02-01</td>\n",
       "      <td>2005-01-25</td>\n",
       "      <td>Shipped</td>\n",
       "      <td>None</td>\n",
       "      <td>276</td>\n",
       "    </tr>\n",
       "    <tr>\n",
       "      <th>8</th>\n",
       "      <td>10371</td>\n",
       "      <td>2005-01-23</td>\n",
       "      <td>2005-02-03</td>\n",
       "      <td>2005-01-25</td>\n",
       "      <td>Shipped</td>\n",
       "      <td>None</td>\n",
       "      <td>124</td>\n",
       "    </tr>\n",
       "    <tr>\n",
       "      <th>9</th>\n",
       "      <td>10372</td>\n",
       "      <td>2005-01-26</td>\n",
       "      <td>2005-02-05</td>\n",
       "      <td>2005-01-28</td>\n",
       "      <td>Shipped</td>\n",
       "      <td>None</td>\n",
       "      <td>398</td>\n",
       "    </tr>\n",
       "  </tbody>\n",
       "</table>\n",
       "</div>"
      ]
     },
     "metadata": {
      "application/vnd.databricks.v1+output": {
       "addedWidgets": {},
       "arguments": {},
       "data": "<div>\n<style scoped>\n    .dataframe tbody tr th:only-of-type {\n        vertical-align: middle;\n    }\n\n    .dataframe tbody tr th {\n        vertical-align: top;\n    }\n\n    .dataframe thead th {\n        text-align: right;\n    }\n</style>\n<table border=\"1\" class=\"dataframe\">\n  <thead>\n    <tr style=\"text-align: right;\">\n      <th></th>\n      <th>order_number</th>\n      <th>order_date</th>\n      <th>required_date</th>\n      <th>shipped_date</th>\n      <th>status</th>\n      <th>comments</th>\n      <th>customer_number</th>\n    </tr>\n  </thead>\n  <tbody>\n    <tr>\n      <th>0</th>\n      <td>10362</td>\n      <td>2005-01-05</td>\n      <td>2005-01-16</td>\n      <td>2005-01-10</td>\n      <td>Shipped</td>\n      <td>None</td>\n      <td>161</td>\n    </tr>\n    <tr>\n      <th>1</th>\n      <td>10363</td>\n      <td>2005-01-06</td>\n      <td>2005-01-12</td>\n      <td>2005-01-10</td>\n      <td>Shipped</td>\n      <td>None</td>\n      <td>334</td>\n    </tr>\n    <tr>\n      <th>2</th>\n      <td>10364</td>\n      <td>2005-01-06</td>\n      <td>2005-01-17</td>\n      <td>2005-01-09</td>\n      <td>Shipped</td>\n      <td>None</td>\n      <td>350</td>\n    </tr>\n    <tr>\n      <th>3</th>\n      <td>10365</td>\n      <td>2005-01-07</td>\n      <td>2005-01-18</td>\n      <td>2005-01-11</td>\n      <td>Shipped</td>\n      <td>None</td>\n      <td>320</td>\n    </tr>\n    <tr>\n      <th>4</th>\n      <td>10366</td>\n      <td>2005-01-10</td>\n      <td>2005-01-19</td>\n      <td>2005-01-12</td>\n      <td>Shipped</td>\n      <td>None</td>\n      <td>381</td>\n    </tr>\n    <tr>\n      <th>5</th>\n      <td>10368</td>\n      <td>2005-01-19</td>\n      <td>2005-01-27</td>\n      <td>2005-01-24</td>\n      <td>Shipped</td>\n      <td>Can we renegotiate this one?</td>\n      <td>124</td>\n    </tr>\n    <tr>\n      <th>6</th>\n      <td>10369</td>\n      <td>2005-01-20</td>\n      <td>2005-01-28</td>\n      <td>2005-01-24</td>\n      <td>Shipped</td>\n      <td>None</td>\n      <td>379</td>\n    </tr>\n    <tr>\n      <th>7</th>\n      <td>10370</td>\n      <td>2005-01-20</td>\n      <td>2005-02-01</td>\n      <td>2005-01-25</td>\n      <td>Shipped</td>\n      <td>None</td>\n      <td>276</td>\n    </tr>\n    <tr>\n      <th>8</th>\n      <td>10371</td>\n      <td>2005-01-23</td>\n      <td>2005-02-03</td>\n      <td>2005-01-25</td>\n      <td>Shipped</td>\n      <td>None</td>\n      <td>124</td>\n    </tr>\n    <tr>\n      <th>9</th>\n      <td>10372</td>\n      <td>2005-01-26</td>\n      <td>2005-02-05</td>\n      <td>2005-01-28</td>\n      <td>Shipped</td>\n      <td>None</td>\n      <td>398</td>\n    </tr>\n  </tbody>\n</table>\n</div>",
       "datasetInfos": [],
       "metadata": {},
       "removedWidgets": [],
       "textData": null,
       "type": "htmlSandbox"
      }
     },
     "output_type": "display_data"
    }
   ],
   "source": [
    "df_orders_filter = df_orders.filter((year(df_orders.order_date) == 2005) & (df_orders.status == \"Shipped\"))\n",
    "df_orders_filter.toPandas().head(10)"
   ]
  },
  {
   "cell_type": "markdown",
   "metadata": {
    "application/vnd.databricks.v1+cell": {
     "cellMetadata": {
      "byteLimit": 2048000,
      "rowLimit": 10000
     },
     "inputWidgets": {},
     "nuid": "8924be12-5cb1-4481-83eb-268924fad408",
     "showTitle": false,
     "title": ""
    }
   },
   "source": [
    "***Realizando o join entre as 3 tabelas***"
   ]
  },
  {
   "cell_type": "code",
   "execution_count": 0,
   "metadata": {
    "application/vnd.databricks.v1+cell": {
     "cellMetadata": {
      "byteLimit": 2048000,
      "rowLimit": 10000
     },
     "inputWidgets": {},
     "nuid": "a046e812-388d-46f9-98ea-97e83b6c3ba2",
     "showTitle": false,
     "title": ""
    }
   },
   "outputs": [
    {
     "output_type": "stream",
     "name": "stderr",
     "output_type": "stream",
     "text": [
      "/databricks/spark/python/pyspark/sql/pandas/utils.py:124: UserWarning: The conversion of DecimalType columns is inefficient and may take a long time. Column names: [price_each] If those columns are not necessary, you may consider dropping them or converting to primitive types before the conversion.\n  warnings.warn(\n"
     ]
    },
    {
     "output_type": "display_data",
     "data": {
      "text/html": [
       "<div>\n",
       "<style scoped>\n",
       "    .dataframe tbody tr th:only-of-type {\n",
       "        vertical-align: middle;\n",
       "    }\n",
       "\n",
       "    .dataframe tbody tr th {\n",
       "        vertical-align: top;\n",
       "    }\n",
       "\n",
       "    .dataframe thead th {\n",
       "        text-align: right;\n",
       "    }\n",
       "</style>\n",
       "<table border=\"1\" class=\"dataframe\">\n",
       "  <thead>\n",
       "    <tr style=\"text-align: right;\">\n",
       "      <th></th>\n",
       "      <th>order_number</th>\n",
       "      <th>product_code</th>\n",
       "      <th>quantity_ordered</th>\n",
       "      <th>price_each</th>\n",
       "      <th>order_line_number</th>\n",
       "      <th>order_date</th>\n",
       "      <th>required_date</th>\n",
       "      <th>shipped_date</th>\n",
       "      <th>status</th>\n",
       "      <th>comments</th>\n",
       "      <th>customer_number</th>\n",
       "    </tr>\n",
       "  </thead>\n",
       "  <tbody>\n",
       "    <tr>\n",
       "      <th>0</th>\n",
       "      <td>10362</td>\n",
       "      <td>S10_4698</td>\n",
       "      <td>22</td>\n",
       "      <td>182.04</td>\n",
       "      <td>4</td>\n",
       "      <td>2005-01-05</td>\n",
       "      <td>2005-01-16</td>\n",
       "      <td>2005-01-10</td>\n",
       "      <td>Shipped</td>\n",
       "      <td>None</td>\n",
       "      <td>161</td>\n",
       "    </tr>\n",
       "    <tr>\n",
       "      <th>1</th>\n",
       "      <td>10362</td>\n",
       "      <td>S12_2823</td>\n",
       "      <td>22</td>\n",
       "      <td>131.04</td>\n",
       "      <td>1</td>\n",
       "      <td>2005-01-05</td>\n",
       "      <td>2005-01-16</td>\n",
       "      <td>2005-01-10</td>\n",
       "      <td>Shipped</td>\n",
       "      <td>None</td>\n",
       "      <td>161</td>\n",
       "    </tr>\n",
       "    <tr>\n",
       "      <th>2</th>\n",
       "      <td>10362</td>\n",
       "      <td>S18_2625</td>\n",
       "      <td>23</td>\n",
       "      <td>53.91</td>\n",
       "      <td>3</td>\n",
       "      <td>2005-01-05</td>\n",
       "      <td>2005-01-16</td>\n",
       "      <td>2005-01-10</td>\n",
       "      <td>Shipped</td>\n",
       "      <td>None</td>\n",
       "      <td>161</td>\n",
       "    </tr>\n",
       "    <tr>\n",
       "      <th>3</th>\n",
       "      <td>10362</td>\n",
       "      <td>S24_1578</td>\n",
       "      <td>50</td>\n",
       "      <td>91.29</td>\n",
       "      <td>2</td>\n",
       "      <td>2005-01-05</td>\n",
       "      <td>2005-01-16</td>\n",
       "      <td>2005-01-10</td>\n",
       "      <td>Shipped</td>\n",
       "      <td>None</td>\n",
       "      <td>161</td>\n",
       "    </tr>\n",
       "    <tr>\n",
       "      <th>4</th>\n",
       "      <td>10363</td>\n",
       "      <td>S12_1099</td>\n",
       "      <td>33</td>\n",
       "      <td>180.95</td>\n",
       "      <td>3</td>\n",
       "      <td>2005-01-06</td>\n",
       "      <td>2005-01-12</td>\n",
       "      <td>2005-01-10</td>\n",
       "      <td>Shipped</td>\n",
       "      <td>None</td>\n",
       "      <td>334</td>\n",
       "    </tr>\n",
       "    <tr>\n",
       "      <th>...</th>\n",
       "      <td>...</td>\n",
       "      <td>...</td>\n",
       "      <td>...</td>\n",
       "      <td>...</td>\n",
       "      <td>...</td>\n",
       "      <td>...</td>\n",
       "      <td>...</td>\n",
       "      <td>...</td>\n",
       "      <td>...</td>\n",
       "      <td>...</td>\n",
       "      <td>...</td>\n",
       "    </tr>\n",
       "    <tr>\n",
       "      <th>417</th>\n",
       "      <td>10425</td>\n",
       "      <td>S24_2300</td>\n",
       "      <td>49</td>\n",
       "      <td>127.79</td>\n",
       "      <td>9</td>\n",
       "      <td>2005-05-31</td>\n",
       "      <td>2005-06-07</td>\n",
       "      <td>2021-05-03</td>\n",
       "      <td>Shipped</td>\n",
       "      <td>None</td>\n",
       "      <td>119</td>\n",
       "    </tr>\n",
       "    <tr>\n",
       "      <th>418</th>\n",
       "      <td>10425</td>\n",
       "      <td>S24_2840</td>\n",
       "      <td>31</td>\n",
       "      <td>31.82</td>\n",
       "      <td>5</td>\n",
       "      <td>2005-05-31</td>\n",
       "      <td>2005-06-07</td>\n",
       "      <td>2021-05-03</td>\n",
       "      <td>Shipped</td>\n",
       "      <td>None</td>\n",
       "      <td>119</td>\n",
       "    </tr>\n",
       "    <tr>\n",
       "      <th>419</th>\n",
       "      <td>10425</td>\n",
       "      <td>S32_1268</td>\n",
       "      <td>41</td>\n",
       "      <td>83.79</td>\n",
       "      <td>11</td>\n",
       "      <td>2005-05-31</td>\n",
       "      <td>2005-06-07</td>\n",
       "      <td>2021-05-03</td>\n",
       "      <td>Shipped</td>\n",
       "      <td>None</td>\n",
       "      <td>119</td>\n",
       "    </tr>\n",
       "    <tr>\n",
       "      <th>420</th>\n",
       "      <td>10425</td>\n",
       "      <td>S32_2509</td>\n",
       "      <td>11</td>\n",
       "      <td>50.32</td>\n",
       "      <td>6</td>\n",
       "      <td>2005-05-31</td>\n",
       "      <td>2005-06-07</td>\n",
       "      <td>2021-05-03</td>\n",
       "      <td>Shipped</td>\n",
       "      <td>None</td>\n",
       "      <td>119</td>\n",
       "    </tr>\n",
       "    <tr>\n",
       "      <th>421</th>\n",
       "      <td>10425</td>\n",
       "      <td>S50_1392</td>\n",
       "      <td>18</td>\n",
       "      <td>94.92</td>\n",
       "      <td>2</td>\n",
       "      <td>2005-05-31</td>\n",
       "      <td>2005-06-07</td>\n",
       "      <td>2021-05-03</td>\n",
       "      <td>Shipped</td>\n",
       "      <td>None</td>\n",
       "      <td>119</td>\n",
       "    </tr>\n",
       "  </tbody>\n",
       "</table>\n",
       "<p>422 rows × 11 columns</p>\n",
       "</div>"
      ]
     },
     "metadata": {
      "application/vnd.databricks.v1+output": {
       "addedWidgets": {},
       "arguments": {},
       "data": "<div>\n<style scoped>\n    .dataframe tbody tr th:only-of-type {\n        vertical-align: middle;\n    }\n\n    .dataframe tbody tr th {\n        vertical-align: top;\n    }\n\n    .dataframe thead th {\n        text-align: right;\n    }\n</style>\n<table border=\"1\" class=\"dataframe\">\n  <thead>\n    <tr style=\"text-align: right;\">\n      <th></th>\n      <th>order_number</th>\n      <th>product_code</th>\n      <th>quantity_ordered</th>\n      <th>price_each</th>\n      <th>order_line_number</th>\n      <th>order_date</th>\n      <th>required_date</th>\n      <th>shipped_date</th>\n      <th>status</th>\n      <th>comments</th>\n      <th>customer_number</th>\n    </tr>\n  </thead>\n  <tbody>\n    <tr>\n      <th>0</th>\n      <td>10362</td>\n      <td>S10_4698</td>\n      <td>22</td>\n      <td>182.04</td>\n      <td>4</td>\n      <td>2005-01-05</td>\n      <td>2005-01-16</td>\n      <td>2005-01-10</td>\n      <td>Shipped</td>\n      <td>None</td>\n      <td>161</td>\n    </tr>\n    <tr>\n      <th>1</th>\n      <td>10362</td>\n      <td>S12_2823</td>\n      <td>22</td>\n      <td>131.04</td>\n      <td>1</td>\n      <td>2005-01-05</td>\n      <td>2005-01-16</td>\n      <td>2005-01-10</td>\n      <td>Shipped</td>\n      <td>None</td>\n      <td>161</td>\n    </tr>\n    <tr>\n      <th>2</th>\n      <td>10362</td>\n      <td>S18_2625</td>\n      <td>23</td>\n      <td>53.91</td>\n      <td>3</td>\n      <td>2005-01-05</td>\n      <td>2005-01-16</td>\n      <td>2005-01-10</td>\n      <td>Shipped</td>\n      <td>None</td>\n      <td>161</td>\n    </tr>\n    <tr>\n      <th>3</th>\n      <td>10362</td>\n      <td>S24_1578</td>\n      <td>50</td>\n      <td>91.29</td>\n      <td>2</td>\n      <td>2005-01-05</td>\n      <td>2005-01-16</td>\n      <td>2005-01-10</td>\n      <td>Shipped</td>\n      <td>None</td>\n      <td>161</td>\n    </tr>\n    <tr>\n      <th>4</th>\n      <td>10363</td>\n      <td>S12_1099</td>\n      <td>33</td>\n      <td>180.95</td>\n      <td>3</td>\n      <td>2005-01-06</td>\n      <td>2005-01-12</td>\n      <td>2005-01-10</td>\n      <td>Shipped</td>\n      <td>None</td>\n      <td>334</td>\n    </tr>\n    <tr>\n      <th>...</th>\n      <td>...</td>\n      <td>...</td>\n      <td>...</td>\n      <td>...</td>\n      <td>...</td>\n      <td>...</td>\n      <td>...</td>\n      <td>...</td>\n      <td>...</td>\n      <td>...</td>\n      <td>...</td>\n    </tr>\n    <tr>\n      <th>417</th>\n      <td>10425</td>\n      <td>S24_2300</td>\n      <td>49</td>\n      <td>127.79</td>\n      <td>9</td>\n      <td>2005-05-31</td>\n      <td>2005-06-07</td>\n      <td>2021-05-03</td>\n      <td>Shipped</td>\n      <td>None</td>\n      <td>119</td>\n    </tr>\n    <tr>\n      <th>418</th>\n      <td>10425</td>\n      <td>S24_2840</td>\n      <td>31</td>\n      <td>31.82</td>\n      <td>5</td>\n      <td>2005-05-31</td>\n      <td>2005-06-07</td>\n      <td>2021-05-03</td>\n      <td>Shipped</td>\n      <td>None</td>\n      <td>119</td>\n    </tr>\n    <tr>\n      <th>419</th>\n      <td>10425</td>\n      <td>S32_1268</td>\n      <td>41</td>\n      <td>83.79</td>\n      <td>11</td>\n      <td>2005-05-31</td>\n      <td>2005-06-07</td>\n      <td>2021-05-03</td>\n      <td>Shipped</td>\n      <td>None</td>\n      <td>119</td>\n    </tr>\n    <tr>\n      <th>420</th>\n      <td>10425</td>\n      <td>S32_2509</td>\n      <td>11</td>\n      <td>50.32</td>\n      <td>6</td>\n      <td>2005-05-31</td>\n      <td>2005-06-07</td>\n      <td>2021-05-03</td>\n      <td>Shipped</td>\n      <td>None</td>\n      <td>119</td>\n    </tr>\n    <tr>\n      <th>421</th>\n      <td>10425</td>\n      <td>S50_1392</td>\n      <td>18</td>\n      <td>94.92</td>\n      <td>2</td>\n      <td>2005-05-31</td>\n      <td>2005-06-07</td>\n      <td>2021-05-03</td>\n      <td>Shipped</td>\n      <td>None</td>\n      <td>119</td>\n    </tr>\n  </tbody>\n</table>\n<p>422 rows × 11 columns</p>\n</div>",
       "datasetInfos": [],
       "metadata": {},
       "removedWidgets": [],
       "textData": null,
       "type": "htmlSandbox"
      }
     },
     "output_type": "display_data"
    }
   ],
   "source": [
    "df_join = df_orderdetails.join(df_orders_filter,on='order_number',how='inner')\n",
    "df_join.toPandas()"
   ]
  },
  {
   "cell_type": "code",
   "execution_count": 0,
   "metadata": {
    "application/vnd.databricks.v1+cell": {
     "cellMetadata": {
      "byteLimit": 2048000,
      "rowLimit": 10000
     },
     "inputWidgets": {},
     "nuid": "5154a4ce-bd47-4f44-a8ab-8a8c631f4f32",
     "showTitle": false,
     "title": ""
    }
   },
   "outputs": [
    {
     "output_type": "stream",
     "name": "stderr",
     "output_type": "stream",
     "text": [
      "/databricks/spark/python/pyspark/sql/pandas/utils.py:124: UserWarning: The conversion of DecimalType columns is inefficient and may take a long time. Column names: [price_each, buy_price, msrp] If those columns are not necessary, you may consider dropping them or converting to primitive types before the conversion.\n  warnings.warn(\n"
     ]
    },
    {
     "output_type": "display_data",
     "data": {
      "text/html": [
       "<div>\n",
       "<style scoped>\n",
       "    .dataframe tbody tr th:only-of-type {\n",
       "        vertical-align: middle;\n",
       "    }\n",
       "\n",
       "    .dataframe tbody tr th {\n",
       "        vertical-align: top;\n",
       "    }\n",
       "\n",
       "    .dataframe thead th {\n",
       "        text-align: right;\n",
       "    }\n",
       "</style>\n",
       "<table border=\"1\" class=\"dataframe\">\n",
       "  <thead>\n",
       "    <tr style=\"text-align: right;\">\n",
       "      <th></th>\n",
       "      <th>product_code</th>\n",
       "      <th>order_number</th>\n",
       "      <th>quantity_ordered</th>\n",
       "      <th>price_each</th>\n",
       "      <th>order_line_number</th>\n",
       "      <th>order_date</th>\n",
       "      <th>required_date</th>\n",
       "      <th>shipped_date</th>\n",
       "      <th>status</th>\n",
       "      <th>comments</th>\n",
       "      <th>customer_number</th>\n",
       "      <th>product_name</th>\n",
       "      <th>product_line</th>\n",
       "      <th>product_scale</th>\n",
       "      <th>product_vendor</th>\n",
       "      <th>product_description</th>\n",
       "      <th>quantity_in_stock</th>\n",
       "      <th>buy_price</th>\n",
       "      <th>msrp</th>\n",
       "    </tr>\n",
       "  </thead>\n",
       "  <tbody>\n",
       "    <tr>\n",
       "      <th>0</th>\n",
       "      <td>S10_4698</td>\n",
       "      <td>10362</td>\n",
       "      <td>22</td>\n",
       "      <td>182.04</td>\n",
       "      <td>4</td>\n",
       "      <td>2005-01-05</td>\n",
       "      <td>2005-01-16</td>\n",
       "      <td>2005-01-10</td>\n",
       "      <td>Shipped</td>\n",
       "      <td>None</td>\n",
       "      <td>161</td>\n",
       "      <td>2003 Harley-Davidson Eagle Drag Bike</td>\n",
       "      <td>Motorcycles</td>\n",
       "      <td>1:10</td>\n",
       "      <td>Red Start Diecast</td>\n",
       "      <td>Model features, official Harley Davidson logos...</td>\n",
       "      <td>5582</td>\n",
       "      <td>91.02</td>\n",
       "      <td>193.66</td>\n",
       "    </tr>\n",
       "    <tr>\n",
       "      <th>1</th>\n",
       "      <td>S12_2823</td>\n",
       "      <td>10362</td>\n",
       "      <td>22</td>\n",
       "      <td>131.04</td>\n",
       "      <td>1</td>\n",
       "      <td>2005-01-05</td>\n",
       "      <td>2005-01-16</td>\n",
       "      <td>2005-01-10</td>\n",
       "      <td>Shipped</td>\n",
       "      <td>None</td>\n",
       "      <td>161</td>\n",
       "      <td>2002 Suzuki XREO</td>\n",
       "      <td>Motorcycles</td>\n",
       "      <td>1:12</td>\n",
       "      <td>Unimax Art Galleries</td>\n",
       "      <td>Official logos and insignias, saddle bags loca...</td>\n",
       "      <td>9997</td>\n",
       "      <td>66.27</td>\n",
       "      <td>150.62</td>\n",
       "    </tr>\n",
       "    <tr>\n",
       "      <th>2</th>\n",
       "      <td>S18_2625</td>\n",
       "      <td>10362</td>\n",
       "      <td>23</td>\n",
       "      <td>53.91</td>\n",
       "      <td>3</td>\n",
       "      <td>2005-01-05</td>\n",
       "      <td>2005-01-16</td>\n",
       "      <td>2005-01-10</td>\n",
       "      <td>Shipped</td>\n",
       "      <td>None</td>\n",
       "      <td>161</td>\n",
       "      <td>1936 Harley Davidson El Knucklehead</td>\n",
       "      <td>Motorcycles</td>\n",
       "      <td>1:18</td>\n",
       "      <td>Welly Diecast Productions</td>\n",
       "      <td>Intricately detailed with chrome accents and t...</td>\n",
       "      <td>4357</td>\n",
       "      <td>24.23</td>\n",
       "      <td>60.57</td>\n",
       "    </tr>\n",
       "    <tr>\n",
       "      <th>3</th>\n",
       "      <td>S24_1578</td>\n",
       "      <td>10362</td>\n",
       "      <td>50</td>\n",
       "      <td>91.29</td>\n",
       "      <td>2</td>\n",
       "      <td>2005-01-05</td>\n",
       "      <td>2005-01-16</td>\n",
       "      <td>2005-01-10</td>\n",
       "      <td>Shipped</td>\n",
       "      <td>None</td>\n",
       "      <td>161</td>\n",
       "      <td>1997 BMW R 1100 S</td>\n",
       "      <td>Motorcycles</td>\n",
       "      <td>1:24</td>\n",
       "      <td>Autoart Studio Design</td>\n",
       "      <td>Detailed scale replica with working suspension...</td>\n",
       "      <td>7003</td>\n",
       "      <td>60.86</td>\n",
       "      <td>112.70</td>\n",
       "    </tr>\n",
       "    <tr>\n",
       "      <th>4</th>\n",
       "      <td>S12_1099</td>\n",
       "      <td>10363</td>\n",
       "      <td>33</td>\n",
       "      <td>180.95</td>\n",
       "      <td>3</td>\n",
       "      <td>2005-01-06</td>\n",
       "      <td>2005-01-12</td>\n",
       "      <td>2005-01-10</td>\n",
       "      <td>Shipped</td>\n",
       "      <td>None</td>\n",
       "      <td>334</td>\n",
       "      <td>1968 Fods Mustang</td>\n",
       "      <td>Classic Cars</td>\n",
       "      <td>1:12</td>\n",
       "      <td>Autoart Studio Design</td>\n",
       "      <td>Hood, doors and trunk all open to reveal highl...</td>\n",
       "      <td>68</td>\n",
       "      <td>95.34</td>\n",
       "      <td>194.57</td>\n",
       "    </tr>\n",
       "    <tr>\n",
       "      <th>...</th>\n",
       "      <td>...</td>\n",
       "      <td>...</td>\n",
       "      <td>...</td>\n",
       "      <td>...</td>\n",
       "      <td>...</td>\n",
       "      <td>...</td>\n",
       "      <td>...</td>\n",
       "      <td>...</td>\n",
       "      <td>...</td>\n",
       "      <td>...</td>\n",
       "      <td>...</td>\n",
       "      <td>...</td>\n",
       "      <td>...</td>\n",
       "      <td>...</td>\n",
       "      <td>...</td>\n",
       "      <td>...</td>\n",
       "      <td>...</td>\n",
       "      <td>...</td>\n",
       "      <td>...</td>\n",
       "    </tr>\n",
       "    <tr>\n",
       "      <th>417</th>\n",
       "      <td>S24_2300</td>\n",
       "      <td>10425</td>\n",
       "      <td>49</td>\n",
       "      <td>127.79</td>\n",
       "      <td>9</td>\n",
       "      <td>2005-05-31</td>\n",
       "      <td>2005-06-07</td>\n",
       "      <td>2021-05-03</td>\n",
       "      <td>Shipped</td>\n",
       "      <td>None</td>\n",
       "      <td>119</td>\n",
       "      <td>1962 Volkswagen Microbus</td>\n",
       "      <td>Trucks and Buses</td>\n",
       "      <td>1:24</td>\n",
       "      <td>Autoart Studio Design</td>\n",
       "      <td>This 1:18 scale die cast replica of the 1962 M...</td>\n",
       "      <td>2327</td>\n",
       "      <td>61.34</td>\n",
       "      <td>127.79</td>\n",
       "    </tr>\n",
       "    <tr>\n",
       "      <th>418</th>\n",
       "      <td>S24_2840</td>\n",
       "      <td>10425</td>\n",
       "      <td>31</td>\n",
       "      <td>31.82</td>\n",
       "      <td>5</td>\n",
       "      <td>2005-05-31</td>\n",
       "      <td>2005-06-07</td>\n",
       "      <td>2021-05-03</td>\n",
       "      <td>Shipped</td>\n",
       "      <td>None</td>\n",
       "      <td>119</td>\n",
       "      <td>1958 Chevy Corvette Limited Edition</td>\n",
       "      <td>Classic Cars</td>\n",
       "      <td>1:24</td>\n",
       "      <td>Carousel DieCast Legends</td>\n",
       "      <td>The operating parts of this 1958 Chevy Corvett...</td>\n",
       "      <td>2542</td>\n",
       "      <td>15.91</td>\n",
       "      <td>35.36</td>\n",
       "    </tr>\n",
       "    <tr>\n",
       "      <th>419</th>\n",
       "      <td>S32_1268</td>\n",
       "      <td>10425</td>\n",
       "      <td>41</td>\n",
       "      <td>83.79</td>\n",
       "      <td>11</td>\n",
       "      <td>2005-05-31</td>\n",
       "      <td>2005-06-07</td>\n",
       "      <td>2021-05-03</td>\n",
       "      <td>Shipped</td>\n",
       "      <td>None</td>\n",
       "      <td>119</td>\n",
       "      <td>1980�s GM Manhattan Express</td>\n",
       "      <td>Trucks and Buses</td>\n",
       "      <td>1:32</td>\n",
       "      <td>Motor City Art Classics</td>\n",
       "      <td>This 1980�s era new look Manhattan express is ...</td>\n",
       "      <td>5099</td>\n",
       "      <td>53.93</td>\n",
       "      <td>96.31</td>\n",
       "    </tr>\n",
       "    <tr>\n",
       "      <th>420</th>\n",
       "      <td>S32_2509</td>\n",
       "      <td>10425</td>\n",
       "      <td>11</td>\n",
       "      <td>50.32</td>\n",
       "      <td>6</td>\n",
       "      <td>2005-05-31</td>\n",
       "      <td>2005-06-07</td>\n",
       "      <td>2021-05-03</td>\n",
       "      <td>Shipped</td>\n",
       "      <td>None</td>\n",
       "      <td>119</td>\n",
       "      <td>1954 Greyhound Scenicruiser</td>\n",
       "      <td>Trucks and Buses</td>\n",
       "      <td>1:32</td>\n",
       "      <td>Classic Metal Creations</td>\n",
       "      <td>Model features bi-level seating, 50 windows, s...</td>\n",
       "      <td>2874</td>\n",
       "      <td>25.98</td>\n",
       "      <td>54.11</td>\n",
       "    </tr>\n",
       "    <tr>\n",
       "      <th>421</th>\n",
       "      <td>S50_1392</td>\n",
       "      <td>10425</td>\n",
       "      <td>18</td>\n",
       "      <td>94.92</td>\n",
       "      <td>2</td>\n",
       "      <td>2005-05-31</td>\n",
       "      <td>2005-06-07</td>\n",
       "      <td>2021-05-03</td>\n",
       "      <td>Shipped</td>\n",
       "      <td>None</td>\n",
       "      <td>119</td>\n",
       "      <td>Diamond T620 Semi-Skirted Tanker</td>\n",
       "      <td>Trucks and Buses</td>\n",
       "      <td>1:50</td>\n",
       "      <td>Highway 66 Mini Classics</td>\n",
       "      <td>This limited edition model is licensed and per...</td>\n",
       "      <td>1016</td>\n",
       "      <td>68.29</td>\n",
       "      <td>115.75</td>\n",
       "    </tr>\n",
       "  </tbody>\n",
       "</table>\n",
       "<p>422 rows × 19 columns</p>\n",
       "</div>"
      ]
     },
     "metadata": {
      "application/vnd.databricks.v1+output": {
       "addedWidgets": {},
       "arguments": {},
       "data": "<div>\n<style scoped>\n    .dataframe tbody tr th:only-of-type {\n        vertical-align: middle;\n    }\n\n    .dataframe tbody tr th {\n        vertical-align: top;\n    }\n\n    .dataframe thead th {\n        text-align: right;\n    }\n</style>\n<table border=\"1\" class=\"dataframe\">\n  <thead>\n    <tr style=\"text-align: right;\">\n      <th></th>\n      <th>product_code</th>\n      <th>order_number</th>\n      <th>quantity_ordered</th>\n      <th>price_each</th>\n      <th>order_line_number</th>\n      <th>order_date</th>\n      <th>required_date</th>\n      <th>shipped_date</th>\n      <th>status</th>\n      <th>comments</th>\n      <th>customer_number</th>\n      <th>product_name</th>\n      <th>product_line</th>\n      <th>product_scale</th>\n      <th>product_vendor</th>\n      <th>product_description</th>\n      <th>quantity_in_stock</th>\n      <th>buy_price</th>\n      <th>msrp</th>\n    </tr>\n  </thead>\n  <tbody>\n    <tr>\n      <th>0</th>\n      <td>S10_4698</td>\n      <td>10362</td>\n      <td>22</td>\n      <td>182.04</td>\n      <td>4</td>\n      <td>2005-01-05</td>\n      <td>2005-01-16</td>\n      <td>2005-01-10</td>\n      <td>Shipped</td>\n      <td>None</td>\n      <td>161</td>\n      <td>2003 Harley-Davidson Eagle Drag Bike</td>\n      <td>Motorcycles</td>\n      <td>1:10</td>\n      <td>Red Start Diecast</td>\n      <td>Model features, official Harley Davidson logos...</td>\n      <td>5582</td>\n      <td>91.02</td>\n      <td>193.66</td>\n    </tr>\n    <tr>\n      <th>1</th>\n      <td>S12_2823</td>\n      <td>10362</td>\n      <td>22</td>\n      <td>131.04</td>\n      <td>1</td>\n      <td>2005-01-05</td>\n      <td>2005-01-16</td>\n      <td>2005-01-10</td>\n      <td>Shipped</td>\n      <td>None</td>\n      <td>161</td>\n      <td>2002 Suzuki XREO</td>\n      <td>Motorcycles</td>\n      <td>1:12</td>\n      <td>Unimax Art Galleries</td>\n      <td>Official logos and insignias, saddle bags loca...</td>\n      <td>9997</td>\n      <td>66.27</td>\n      <td>150.62</td>\n    </tr>\n    <tr>\n      <th>2</th>\n      <td>S18_2625</td>\n      <td>10362</td>\n      <td>23</td>\n      <td>53.91</td>\n      <td>3</td>\n      <td>2005-01-05</td>\n      <td>2005-01-16</td>\n      <td>2005-01-10</td>\n      <td>Shipped</td>\n      <td>None</td>\n      <td>161</td>\n      <td>1936 Harley Davidson El Knucklehead</td>\n      <td>Motorcycles</td>\n      <td>1:18</td>\n      <td>Welly Diecast Productions</td>\n      <td>Intricately detailed with chrome accents and t...</td>\n      <td>4357</td>\n      <td>24.23</td>\n      <td>60.57</td>\n    </tr>\n    <tr>\n      <th>3</th>\n      <td>S24_1578</td>\n      <td>10362</td>\n      <td>50</td>\n      <td>91.29</td>\n      <td>2</td>\n      <td>2005-01-05</td>\n      <td>2005-01-16</td>\n      <td>2005-01-10</td>\n      <td>Shipped</td>\n      <td>None</td>\n      <td>161</td>\n      <td>1997 BMW R 1100 S</td>\n      <td>Motorcycles</td>\n      <td>1:24</td>\n      <td>Autoart Studio Design</td>\n      <td>Detailed scale replica with working suspension...</td>\n      <td>7003</td>\n      <td>60.86</td>\n      <td>112.70</td>\n    </tr>\n    <tr>\n      <th>4</th>\n      <td>S12_1099</td>\n      <td>10363</td>\n      <td>33</td>\n      <td>180.95</td>\n      <td>3</td>\n      <td>2005-01-06</td>\n      <td>2005-01-12</td>\n      <td>2005-01-10</td>\n      <td>Shipped</td>\n      <td>None</td>\n      <td>334</td>\n      <td>1968 Fods Mustang</td>\n      <td>Classic Cars</td>\n      <td>1:12</td>\n      <td>Autoart Studio Design</td>\n      <td>Hood, doors and trunk all open to reveal highl...</td>\n      <td>68</td>\n      <td>95.34</td>\n      <td>194.57</td>\n    </tr>\n    <tr>\n      <th>...</th>\n      <td>...</td>\n      <td>...</td>\n      <td>...</td>\n      <td>...</td>\n      <td>...</td>\n      <td>...</td>\n      <td>...</td>\n      <td>...</td>\n      <td>...</td>\n      <td>...</td>\n      <td>...</td>\n      <td>...</td>\n      <td>...</td>\n      <td>...</td>\n      <td>...</td>\n      <td>...</td>\n      <td>...</td>\n      <td>...</td>\n      <td>...</td>\n    </tr>\n    <tr>\n      <th>417</th>\n      <td>S24_2300</td>\n      <td>10425</td>\n      <td>49</td>\n      <td>127.79</td>\n      <td>9</td>\n      <td>2005-05-31</td>\n      <td>2005-06-07</td>\n      <td>2021-05-03</td>\n      <td>Shipped</td>\n      <td>None</td>\n      <td>119</td>\n      <td>1962 Volkswagen Microbus</td>\n      <td>Trucks and Buses</td>\n      <td>1:24</td>\n      <td>Autoart Studio Design</td>\n      <td>This 1:18 scale die cast replica of the 1962 M...</td>\n      <td>2327</td>\n      <td>61.34</td>\n      <td>127.79</td>\n    </tr>\n    <tr>\n      <th>418</th>\n      <td>S24_2840</td>\n      <td>10425</td>\n      <td>31</td>\n      <td>31.82</td>\n      <td>5</td>\n      <td>2005-05-31</td>\n      <td>2005-06-07</td>\n      <td>2021-05-03</td>\n      <td>Shipped</td>\n      <td>None</td>\n      <td>119</td>\n      <td>1958 Chevy Corvette Limited Edition</td>\n      <td>Classic Cars</td>\n      <td>1:24</td>\n      <td>Carousel DieCast Legends</td>\n      <td>The operating parts of this 1958 Chevy Corvett...</td>\n      <td>2542</td>\n      <td>15.91</td>\n      <td>35.36</td>\n    </tr>\n    <tr>\n      <th>419</th>\n      <td>S32_1268</td>\n      <td>10425</td>\n      <td>41</td>\n      <td>83.79</td>\n      <td>11</td>\n      <td>2005-05-31</td>\n      <td>2005-06-07</td>\n      <td>2021-05-03</td>\n      <td>Shipped</td>\n      <td>None</td>\n      <td>119</td>\n      <td>1980�s GM Manhattan Express</td>\n      <td>Trucks and Buses</td>\n      <td>1:32</td>\n      <td>Motor City Art Classics</td>\n      <td>This 1980�s era new look Manhattan express is ...</td>\n      <td>5099</td>\n      <td>53.93</td>\n      <td>96.31</td>\n    </tr>\n    <tr>\n      <th>420</th>\n      <td>S32_2509</td>\n      <td>10425</td>\n      <td>11</td>\n      <td>50.32</td>\n      <td>6</td>\n      <td>2005-05-31</td>\n      <td>2005-06-07</td>\n      <td>2021-05-03</td>\n      <td>Shipped</td>\n      <td>None</td>\n      <td>119</td>\n      <td>1954 Greyhound Scenicruiser</td>\n      <td>Trucks and Buses</td>\n      <td>1:32</td>\n      <td>Classic Metal Creations</td>\n      <td>Model features bi-level seating, 50 windows, s...</td>\n      <td>2874</td>\n      <td>25.98</td>\n      <td>54.11</td>\n    </tr>\n    <tr>\n      <th>421</th>\n      <td>S50_1392</td>\n      <td>10425</td>\n      <td>18</td>\n      <td>94.92</td>\n      <td>2</td>\n      <td>2005-05-31</td>\n      <td>2005-06-07</td>\n      <td>2021-05-03</td>\n      <td>Shipped</td>\n      <td>None</td>\n      <td>119</td>\n      <td>Diamond T620 Semi-Skirted Tanker</td>\n      <td>Trucks and Buses</td>\n      <td>1:50</td>\n      <td>Highway 66 Mini Classics</td>\n      <td>This limited edition model is licensed and per...</td>\n      <td>1016</td>\n      <td>68.29</td>\n      <td>115.75</td>\n    </tr>\n  </tbody>\n</table>\n<p>422 rows × 19 columns</p>\n</div>",
       "datasetInfos": [],
       "metadata": {},
       "removedWidgets": [],
       "textData": null,
       "type": "htmlSandbox"
      }
     },
     "output_type": "display_data"
    }
   ],
   "source": [
    "df_join = df_join.join(df_products,on='product_code',how='inner')\n",
    "df_join.toPandas()"
   ]
  },
  {
   "cell_type": "code",
   "execution_count": 0,
   "metadata": {
    "application/vnd.databricks.v1+cell": {
     "cellMetadata": {
      "byteLimit": 2048000,
      "rowLimit": 10000
     },
     "inputWidgets": {},
     "nuid": "a0a47703-a6e3-46ea-8188-fe380b14fd82",
     "showTitle": false,
     "title": ""
    }
   },
   "outputs": [
    {
     "output_type": "stream",
     "name": "stdout",
     "output_type": "stream",
     "text": [
      "Out[266]: ['product_code',\n 'order_number',\n 'quantity_ordered',\n 'price_each',\n 'order_line_number',\n 'order_date',\n 'required_date',\n 'shipped_date',\n 'status',\n 'comments',\n 'customer_number',\n 'product_name',\n 'product_line',\n 'product_scale',\n 'product_vendor',\n 'product_description',\n 'quantity_in_stock',\n 'buy_price',\n 'msrp']"
     ]
    }
   ],
   "source": [
    "df_join.columns"
   ]
  },
  {
   "cell_type": "markdown",
   "metadata": {
    "application/vnd.databricks.v1+cell": {
     "cellMetadata": {
      "byteLimit": 2048000,
      "rowLimit": 10000
     },
     "inputWidgets": {},
     "nuid": "8ab6f506-3c17-4176-be31-047ddb631292",
     "showTitle": false,
     "title": ""
    }
   },
   "source": [
    "***Filtro e cálculo para definir o faturamento de cada linha de produto.***"
   ]
  },
  {
   "cell_type": "code",
   "execution_count": 0,
   "metadata": {
    "application/vnd.databricks.v1+cell": {
     "cellMetadata": {
      "byteLimit": 2048000,
      "rowLimit": 10000
     },
     "inputWidgets": {},
     "nuid": "8eabe39f-f881-49bd-923b-922cfe92e0b7",
     "showTitle": false,
     "title": ""
    }
   },
   "outputs": [
    {
     "output_type": "stream",
     "name": "stderr",
     "output_type": "stream",
     "text": [
      "/databricks/spark/python/pyspark/sql/pandas/utils.py:124: UserWarning: The conversion of DecimalType columns is inefficient and may take a long time. Column names: [price_each] If those columns are not necessary, you may consider dropping them or converting to primitive types before the conversion.\n  warnings.warn(\n"
     ]
    },
    {
     "output_type": "display_data",
     "data": {
      "text/html": [
       "<div>\n",
       "<style scoped>\n",
       "    .dataframe tbody tr th:only-of-type {\n",
       "        vertical-align: middle;\n",
       "    }\n",
       "\n",
       "    .dataframe tbody tr th {\n",
       "        vertical-align: top;\n",
       "    }\n",
       "\n",
       "    .dataframe thead th {\n",
       "        text-align: right;\n",
       "    }\n",
       "</style>\n",
       "<table border=\"1\" class=\"dataframe\">\n",
       "  <thead>\n",
       "    <tr style=\"text-align: right;\">\n",
       "      <th></th>\n",
       "      <th>product_code</th>\n",
       "      <th>quantity_ordered</th>\n",
       "      <th>price_each</th>\n",
       "      <th>product_name</th>\n",
       "      <th>product_line</th>\n",
       "    </tr>\n",
       "  </thead>\n",
       "  <tbody>\n",
       "    <tr>\n",
       "      <th>0</th>\n",
       "      <td>S10_4698</td>\n",
       "      <td>22</td>\n",
       "      <td>182.04</td>\n",
       "      <td>2003 Harley-Davidson Eagle Drag Bike</td>\n",
       "      <td>Motorcycles</td>\n",
       "    </tr>\n",
       "    <tr>\n",
       "      <th>1</th>\n",
       "      <td>S12_2823</td>\n",
       "      <td>22</td>\n",
       "      <td>131.04</td>\n",
       "      <td>2002 Suzuki XREO</td>\n",
       "      <td>Motorcycles</td>\n",
       "    </tr>\n",
       "    <tr>\n",
       "      <th>2</th>\n",
       "      <td>S18_2625</td>\n",
       "      <td>23</td>\n",
       "      <td>53.91</td>\n",
       "      <td>1936 Harley Davidson El Knucklehead</td>\n",
       "      <td>Motorcycles</td>\n",
       "    </tr>\n",
       "    <tr>\n",
       "      <th>3</th>\n",
       "      <td>S24_1578</td>\n",
       "      <td>50</td>\n",
       "      <td>91.29</td>\n",
       "      <td>1997 BMW R 1100 S</td>\n",
       "      <td>Motorcycles</td>\n",
       "    </tr>\n",
       "    <tr>\n",
       "      <th>4</th>\n",
       "      <td>S12_1099</td>\n",
       "      <td>33</td>\n",
       "      <td>180.95</td>\n",
       "      <td>1968 Fods Mustang</td>\n",
       "      <td>Classic Cars</td>\n",
       "    </tr>\n",
       "    <tr>\n",
       "      <th>...</th>\n",
       "      <td>...</td>\n",
       "      <td>...</td>\n",
       "      <td>...</td>\n",
       "      <td>...</td>\n",
       "      <td>...</td>\n",
       "    </tr>\n",
       "    <tr>\n",
       "      <th>417</th>\n",
       "      <td>S24_2300</td>\n",
       "      <td>49</td>\n",
       "      <td>127.79</td>\n",
       "      <td>1962 Volkswagen Microbus</td>\n",
       "      <td>Trucks and Buses</td>\n",
       "    </tr>\n",
       "    <tr>\n",
       "      <th>418</th>\n",
       "      <td>S24_2840</td>\n",
       "      <td>31</td>\n",
       "      <td>31.82</td>\n",
       "      <td>1958 Chevy Corvette Limited Edition</td>\n",
       "      <td>Classic Cars</td>\n",
       "    </tr>\n",
       "    <tr>\n",
       "      <th>419</th>\n",
       "      <td>S32_1268</td>\n",
       "      <td>41</td>\n",
       "      <td>83.79</td>\n",
       "      <td>1980�s GM Manhattan Express</td>\n",
       "      <td>Trucks and Buses</td>\n",
       "    </tr>\n",
       "    <tr>\n",
       "      <th>420</th>\n",
       "      <td>S32_2509</td>\n",
       "      <td>11</td>\n",
       "      <td>50.32</td>\n",
       "      <td>1954 Greyhound Scenicruiser</td>\n",
       "      <td>Trucks and Buses</td>\n",
       "    </tr>\n",
       "    <tr>\n",
       "      <th>421</th>\n",
       "      <td>S50_1392</td>\n",
       "      <td>18</td>\n",
       "      <td>94.92</td>\n",
       "      <td>Diamond T620 Semi-Skirted Tanker</td>\n",
       "      <td>Trucks and Buses</td>\n",
       "    </tr>\n",
       "  </tbody>\n",
       "</table>\n",
       "<p>422 rows × 5 columns</p>\n",
       "</div>"
      ]
     },
     "metadata": {
      "application/vnd.databricks.v1+output": {
       "addedWidgets": {},
       "arguments": {},
       "data": "<div>\n<style scoped>\n    .dataframe tbody tr th:only-of-type {\n        vertical-align: middle;\n    }\n\n    .dataframe tbody tr th {\n        vertical-align: top;\n    }\n\n    .dataframe thead th {\n        text-align: right;\n    }\n</style>\n<table border=\"1\" class=\"dataframe\">\n  <thead>\n    <tr style=\"text-align: right;\">\n      <th></th>\n      <th>product_code</th>\n      <th>quantity_ordered</th>\n      <th>price_each</th>\n      <th>product_name</th>\n      <th>product_line</th>\n    </tr>\n  </thead>\n  <tbody>\n    <tr>\n      <th>0</th>\n      <td>S10_4698</td>\n      <td>22</td>\n      <td>182.04</td>\n      <td>2003 Harley-Davidson Eagle Drag Bike</td>\n      <td>Motorcycles</td>\n    </tr>\n    <tr>\n      <th>1</th>\n      <td>S12_2823</td>\n      <td>22</td>\n      <td>131.04</td>\n      <td>2002 Suzuki XREO</td>\n      <td>Motorcycles</td>\n    </tr>\n    <tr>\n      <th>2</th>\n      <td>S18_2625</td>\n      <td>23</td>\n      <td>53.91</td>\n      <td>1936 Harley Davidson El Knucklehead</td>\n      <td>Motorcycles</td>\n    </tr>\n    <tr>\n      <th>3</th>\n      <td>S24_1578</td>\n      <td>50</td>\n      <td>91.29</td>\n      <td>1997 BMW R 1100 S</td>\n      <td>Motorcycles</td>\n    </tr>\n    <tr>\n      <th>4</th>\n      <td>S12_1099</td>\n      <td>33</td>\n      <td>180.95</td>\n      <td>1968 Fods Mustang</td>\n      <td>Classic Cars</td>\n    </tr>\n    <tr>\n      <th>...</th>\n      <td>...</td>\n      <td>...</td>\n      <td>...</td>\n      <td>...</td>\n      <td>...</td>\n    </tr>\n    <tr>\n      <th>417</th>\n      <td>S24_2300</td>\n      <td>49</td>\n      <td>127.79</td>\n      <td>1962 Volkswagen Microbus</td>\n      <td>Trucks and Buses</td>\n    </tr>\n    <tr>\n      <th>418</th>\n      <td>S24_2840</td>\n      <td>31</td>\n      <td>31.82</td>\n      <td>1958 Chevy Corvette Limited Edition</td>\n      <td>Classic Cars</td>\n    </tr>\n    <tr>\n      <th>419</th>\n      <td>S32_1268</td>\n      <td>41</td>\n      <td>83.79</td>\n      <td>1980�s GM Manhattan Express</td>\n      <td>Trucks and Buses</td>\n    </tr>\n    <tr>\n      <th>420</th>\n      <td>S32_2509</td>\n      <td>11</td>\n      <td>50.32</td>\n      <td>1954 Greyhound Scenicruiser</td>\n      <td>Trucks and Buses</td>\n    </tr>\n    <tr>\n      <th>421</th>\n      <td>S50_1392</td>\n      <td>18</td>\n      <td>94.92</td>\n      <td>Diamond T620 Semi-Skirted Tanker</td>\n      <td>Trucks and Buses</td>\n    </tr>\n  </tbody>\n</table>\n<p>422 rows × 5 columns</p>\n</div>",
       "datasetInfos": [],
       "metadata": {},
       "removedWidgets": [],
       "textData": null,
       "type": "htmlSandbox"
      }
     },
     "output_type": "display_data"
    }
   ],
   "source": [
    "df_join = df_join.select('product_code','quantity_ordered','price_each','product_name','product_line')\n",
    "df_join.toPandas()"
   ]
  },
  {
   "cell_type": "markdown",
   "metadata": {
    "application/vnd.databricks.v1+cell": {
     "cellMetadata": {
      "byteLimit": 2048000,
      "rowLimit": 10000
     },
     "inputWidgets": {},
     "nuid": "7269d4b9-fae1-4348-b347-c8a5a1272cf0",
     "showTitle": false,
     "title": ""
    }
   },
   "source": [
    "***Calculando o faturamento por pedido feito.***"
   ]
  },
  {
   "cell_type": "code",
   "execution_count": 0,
   "metadata": {
    "application/vnd.databricks.v1+cell": {
     "cellMetadata": {
      "byteLimit": 2048000,
      "rowLimit": 10000
     },
     "inputWidgets": {},
     "nuid": "e3c6b6a0-f53a-42fe-8e4f-c0447852f87f",
     "showTitle": false,
     "title": ""
    }
   },
   "outputs": [
    {
     "output_type": "stream",
     "name": "stderr",
     "output_type": "stream",
     "text": [
      "/databricks/spark/python/pyspark/sql/pandas/utils.py:124: UserWarning: The conversion of DecimalType columns is inefficient and may take a long time. Column names: [price_each, order_billing] If those columns are not necessary, you may consider dropping them or converting to primitive types before the conversion.\n  warnings.warn(\n"
     ]
    },
    {
     "output_type": "display_data",
     "data": {
      "text/html": [
       "<div>\n",
       "<style scoped>\n",
       "    .dataframe tbody tr th:only-of-type {\n",
       "        vertical-align: middle;\n",
       "    }\n",
       "\n",
       "    .dataframe tbody tr th {\n",
       "        vertical-align: top;\n",
       "    }\n",
       "\n",
       "    .dataframe thead th {\n",
       "        text-align: right;\n",
       "    }\n",
       "</style>\n",
       "<table border=\"1\" class=\"dataframe\">\n",
       "  <thead>\n",
       "    <tr style=\"text-align: right;\">\n",
       "      <th></th>\n",
       "      <th>product_code</th>\n",
       "      <th>quantity_ordered</th>\n",
       "      <th>price_each</th>\n",
       "      <th>product_name</th>\n",
       "      <th>product_line</th>\n",
       "      <th>order_billing</th>\n",
       "    </tr>\n",
       "  </thead>\n",
       "  <tbody>\n",
       "    <tr>\n",
       "      <th>0</th>\n",
       "      <td>S10_4698</td>\n",
       "      <td>22</td>\n",
       "      <td>182.04</td>\n",
       "      <td>2003 Harley-Davidson Eagle Drag Bike</td>\n",
       "      <td>Motorcycles</td>\n",
       "      <td>4004.88</td>\n",
       "    </tr>\n",
       "    <tr>\n",
       "      <th>1</th>\n",
       "      <td>S12_2823</td>\n",
       "      <td>22</td>\n",
       "      <td>131.04</td>\n",
       "      <td>2002 Suzuki XREO</td>\n",
       "      <td>Motorcycles</td>\n",
       "      <td>2882.88</td>\n",
       "    </tr>\n",
       "    <tr>\n",
       "      <th>2</th>\n",
       "      <td>S18_2625</td>\n",
       "      <td>23</td>\n",
       "      <td>53.91</td>\n",
       "      <td>1936 Harley Davidson El Knucklehead</td>\n",
       "      <td>Motorcycles</td>\n",
       "      <td>1239.93</td>\n",
       "    </tr>\n",
       "    <tr>\n",
       "      <th>3</th>\n",
       "      <td>S24_1578</td>\n",
       "      <td>50</td>\n",
       "      <td>91.29</td>\n",
       "      <td>1997 BMW R 1100 S</td>\n",
       "      <td>Motorcycles</td>\n",
       "      <td>4564.50</td>\n",
       "    </tr>\n",
       "    <tr>\n",
       "      <th>4</th>\n",
       "      <td>S12_1099</td>\n",
       "      <td>33</td>\n",
       "      <td>180.95</td>\n",
       "      <td>1968 Fods Mustang</td>\n",
       "      <td>Classic Cars</td>\n",
       "      <td>5971.35</td>\n",
       "    </tr>\n",
       "    <tr>\n",
       "      <th>...</th>\n",
       "      <td>...</td>\n",
       "      <td>...</td>\n",
       "      <td>...</td>\n",
       "      <td>...</td>\n",
       "      <td>...</td>\n",
       "      <td>...</td>\n",
       "    </tr>\n",
       "    <tr>\n",
       "      <th>417</th>\n",
       "      <td>S24_2300</td>\n",
       "      <td>49</td>\n",
       "      <td>127.79</td>\n",
       "      <td>1962 Volkswagen Microbus</td>\n",
       "      <td>Trucks and Buses</td>\n",
       "      <td>6261.71</td>\n",
       "    </tr>\n",
       "    <tr>\n",
       "      <th>418</th>\n",
       "      <td>S24_2840</td>\n",
       "      <td>31</td>\n",
       "      <td>31.82</td>\n",
       "      <td>1958 Chevy Corvette Limited Edition</td>\n",
       "      <td>Classic Cars</td>\n",
       "      <td>986.42</td>\n",
       "    </tr>\n",
       "    <tr>\n",
       "      <th>419</th>\n",
       "      <td>S32_1268</td>\n",
       "      <td>41</td>\n",
       "      <td>83.79</td>\n",
       "      <td>1980�s GM Manhattan Express</td>\n",
       "      <td>Trucks and Buses</td>\n",
       "      <td>3435.39</td>\n",
       "    </tr>\n",
       "    <tr>\n",
       "      <th>420</th>\n",
       "      <td>S32_2509</td>\n",
       "      <td>11</td>\n",
       "      <td>50.32</td>\n",
       "      <td>1954 Greyhound Scenicruiser</td>\n",
       "      <td>Trucks and Buses</td>\n",
       "      <td>553.52</td>\n",
       "    </tr>\n",
       "    <tr>\n",
       "      <th>421</th>\n",
       "      <td>S50_1392</td>\n",
       "      <td>18</td>\n",
       "      <td>94.92</td>\n",
       "      <td>Diamond T620 Semi-Skirted Tanker</td>\n",
       "      <td>Trucks and Buses</td>\n",
       "      <td>1708.56</td>\n",
       "    </tr>\n",
       "  </tbody>\n",
       "</table>\n",
       "<p>422 rows × 6 columns</p>\n",
       "</div>"
      ]
     },
     "metadata": {
      "application/vnd.databricks.v1+output": {
       "addedWidgets": {},
       "arguments": {},
       "data": "<div>\n<style scoped>\n    .dataframe tbody tr th:only-of-type {\n        vertical-align: middle;\n    }\n\n    .dataframe tbody tr th {\n        vertical-align: top;\n    }\n\n    .dataframe thead th {\n        text-align: right;\n    }\n</style>\n<table border=\"1\" class=\"dataframe\">\n  <thead>\n    <tr style=\"text-align: right;\">\n      <th></th>\n      <th>product_code</th>\n      <th>quantity_ordered</th>\n      <th>price_each</th>\n      <th>product_name</th>\n      <th>product_line</th>\n      <th>order_billing</th>\n    </tr>\n  </thead>\n  <tbody>\n    <tr>\n      <th>0</th>\n      <td>S10_4698</td>\n      <td>22</td>\n      <td>182.04</td>\n      <td>2003 Harley-Davidson Eagle Drag Bike</td>\n      <td>Motorcycles</td>\n      <td>4004.88</td>\n    </tr>\n    <tr>\n      <th>1</th>\n      <td>S12_2823</td>\n      <td>22</td>\n      <td>131.04</td>\n      <td>2002 Suzuki XREO</td>\n      <td>Motorcycles</td>\n      <td>2882.88</td>\n    </tr>\n    <tr>\n      <th>2</th>\n      <td>S18_2625</td>\n      <td>23</td>\n      <td>53.91</td>\n      <td>1936 Harley Davidson El Knucklehead</td>\n      <td>Motorcycles</td>\n      <td>1239.93</td>\n    </tr>\n    <tr>\n      <th>3</th>\n      <td>S24_1578</td>\n      <td>50</td>\n      <td>91.29</td>\n      <td>1997 BMW R 1100 S</td>\n      <td>Motorcycles</td>\n      <td>4564.50</td>\n    </tr>\n    <tr>\n      <th>4</th>\n      <td>S12_1099</td>\n      <td>33</td>\n      <td>180.95</td>\n      <td>1968 Fods Mustang</td>\n      <td>Classic Cars</td>\n      <td>5971.35</td>\n    </tr>\n    <tr>\n      <th>...</th>\n      <td>...</td>\n      <td>...</td>\n      <td>...</td>\n      <td>...</td>\n      <td>...</td>\n      <td>...</td>\n    </tr>\n    <tr>\n      <th>417</th>\n      <td>S24_2300</td>\n      <td>49</td>\n      <td>127.79</td>\n      <td>1962 Volkswagen Microbus</td>\n      <td>Trucks and Buses</td>\n      <td>6261.71</td>\n    </tr>\n    <tr>\n      <th>418</th>\n      <td>S24_2840</td>\n      <td>31</td>\n      <td>31.82</td>\n      <td>1958 Chevy Corvette Limited Edition</td>\n      <td>Classic Cars</td>\n      <td>986.42</td>\n    </tr>\n    <tr>\n      <th>419</th>\n      <td>S32_1268</td>\n      <td>41</td>\n      <td>83.79</td>\n      <td>1980�s GM Manhattan Express</td>\n      <td>Trucks and Buses</td>\n      <td>3435.39</td>\n    </tr>\n    <tr>\n      <th>420</th>\n      <td>S32_2509</td>\n      <td>11</td>\n      <td>50.32</td>\n      <td>1954 Greyhound Scenicruiser</td>\n      <td>Trucks and Buses</td>\n      <td>553.52</td>\n    </tr>\n    <tr>\n      <th>421</th>\n      <td>S50_1392</td>\n      <td>18</td>\n      <td>94.92</td>\n      <td>Diamond T620 Semi-Skirted Tanker</td>\n      <td>Trucks and Buses</td>\n      <td>1708.56</td>\n    </tr>\n  </tbody>\n</table>\n<p>422 rows × 6 columns</p>\n</div>",
       "datasetInfos": [],
       "metadata": {},
       "removedWidgets": [],
       "textData": null,
       "type": "htmlSandbox"
      }
     },
     "output_type": "display_data"
    }
   ],
   "source": [
    "df_join=df_join.withColumn(\"order_billing\", col(\"quantity_ordered\") * col(\"price_each\"))\n",
    "df_join.toPandas()"
   ]
  },
  {
   "cell_type": "markdown",
   "metadata": {
    "application/vnd.databricks.v1+cell": {
     "cellMetadata": {
      "byteLimit": 2048000,
      "rowLimit": 10000
     },
     "inputWidgets": {},
     "nuid": "d2d4a472-7a02-4e70-b9db-2a761c645d29",
     "showTitle": false,
     "title": ""
    }
   },
   "source": [
    "***Somando os faturamentos por linha de produto.***"
   ]
  },
  {
   "cell_type": "code",
   "execution_count": 0,
   "metadata": {
    "application/vnd.databricks.v1+cell": {
     "cellMetadata": {
      "byteLimit": 2048000,
      "rowLimit": 10000
     },
     "inputWidgets": {},
     "nuid": "e43ecc1f-89a8-4c39-a17f-1d6ade75719a",
     "showTitle": false,
     "title": ""
    }
   },
   "outputs": [
    {
     "output_type": "stream",
     "name": "stdout",
     "output_type": "stream",
     "text": [
      "+----------------+------------------+\n|    product_line|sum(order_billing)|\n+----------------+------------------+\n|    Classic Cars|         603666.99|\n|    Vintage Cars|         222510.70|\n|     Motorcycles|         212684.55|\n|Trucks and Buses|         182231.45|\n|          Planes|         109701.56|\n|           Ships|          62989.19|\n|          Trains|          22311.26|\n+----------------+------------------+\n\n"
     ]
    }
   ],
   "source": [
    "df_join.select('product_line','order_billing').groupBy('product_line').sum().orderBy(desc(\"sum(order_billing)\")).show()\n"
   ]
  },
  {
   "cell_type": "markdown",
   "metadata": {
    "application/vnd.databricks.v1+cell": {
     "cellMetadata": {
      "byteLimit": 2048000,
      "rowLimit": 10000
     },
     "inputWidgets": {},
     "nuid": "b34cdbc5-dff1-48fe-bf65-4249d31e68ed",
     "showTitle": false,
     "title": ""
    }
   },
   "source": [
    "***Portando a linha de produto com o maior faturamento e o Classic Cars  com um total de 603666.99 dolares no ano 2005.***"
   ]
  },
  {
   "cell_type": "code",
   "execution_count": 0,
   "metadata": {
    "application/vnd.databricks.v1+cell": {
     "cellMetadata": {
      "byteLimit": 2048000,
      "rowLimit": 10000
     },
     "inputWidgets": {},
     "nuid": "a7b6a5cf-d253-4def-97cc-547ebab15bd1",
     "showTitle": false,
     "title": ""
    }
   },
   "outputs": [
    {
     "output_type": "stream",
     "name": "stdout",
     "output_type": "stream",
     "text": [
      "+------------+------------------+\n|product_line|sum(order_billing)|\n+------------+------------------+\n|Classic Cars|         603666.99|\n+------------+------------------+\nonly showing top 1 row\n\n"
     ]
    }
   ],
   "source": [
    "df_join.select('product_line','order_billing').groupBy('product_line').sum().orderBy(desc(\"sum(order_billing)\")).show(1)"
   ]
  },
  {
   "cell_type": "markdown",
   "metadata": {
    "application/vnd.databricks.v1+cell": {
     "cellMetadata": {
      "byteLimit": 2048000,
      "rowLimit": 10000
     },
     "inputWidgets": {},
     "nuid": "2cd0b00c-4e6b-4b46-b7b6-2fd061b23831",
     "showTitle": false,
     "title": ""
    }
   },
   "source": [
    "#### __*Nome, sobrenome e e-mail dos vendedores do Japão, o local-part do e-mail deve estar mascarado.*__"
   ]
  },
  {
   "cell_type": "markdown",
   "metadata": {
    "application/vnd.databricks.v1+cell": {
     "cellMetadata": {
      "byteLimit": 2048000,
      "rowLimit": 10000
     },
     "inputWidgets": {},
     "nuid": "20e77235-130a-4096-b93f-9fd4e5485a40",
     "showTitle": false,
     "title": ""
    }
   },
   "source": [
    "***Carregamento das tabelas e join entre os dados***"
   ]
  },
  {
   "cell_type": "code",
   "execution_count": 0,
   "metadata": {
    "application/vnd.databricks.v1+cell": {
     "cellMetadata": {
      "byteLimit": 2048000,
      "rowLimit": 10000
     },
     "inputWidgets": {},
     "nuid": "387a3c52-3485-4567-91a3-7441de92135a",
     "showTitle": false,
     "title": ""
    }
   },
   "outputs": [],
   "source": [
    "df_employees = spark.read.parquet(f'{path}/employees')\n",
    "df_offices = spark.read.parquet(f'{path}/offices')"
   ]
  },
  {
   "cell_type": "code",
   "execution_count": 0,
   "metadata": {
    "application/vnd.databricks.v1+cell": {
     "cellMetadata": {
      "byteLimit": 2048000,
      "rowLimit": 10000
     },
     "inputWidgets": {},
     "nuid": "f0d536c1-efba-475e-b344-3fbe86a6ad4f",
     "showTitle": false,
     "title": ""
    }
   },
   "outputs": [
    {
     "output_type": "display_data",
     "data": {
      "text/html": [
       "<div>\n",
       "<style scoped>\n",
       "    .dataframe tbody tr th:only-of-type {\n",
       "        vertical-align: middle;\n",
       "    }\n",
       "\n",
       "    .dataframe tbody tr th {\n",
       "        vertical-align: top;\n",
       "    }\n",
       "\n",
       "    .dataframe thead th {\n",
       "        text-align: right;\n",
       "    }\n",
       "</style>\n",
       "<table border=\"1\" class=\"dataframe\">\n",
       "  <thead>\n",
       "    <tr style=\"text-align: right;\">\n",
       "      <th></th>\n",
       "      <th>office_code</th>\n",
       "      <th>employee_number</th>\n",
       "      <th>last_name</th>\n",
       "      <th>first_name</th>\n",
       "      <th>extension</th>\n",
       "      <th>email</th>\n",
       "      <th>reports_to</th>\n",
       "      <th>job_Title</th>\n",
       "      <th>city</th>\n",
       "      <th>phone</th>\n",
       "      <th>address_line1</th>\n",
       "      <th>address_line2</th>\n",
       "      <th>state</th>\n",
       "      <th>country</th>\n",
       "      <th>postal_code</th>\n",
       "      <th>territory</th>\n",
       "    </tr>\n",
       "  </thead>\n",
       "  <tbody>\n",
       "    <tr>\n",
       "      <th>0</th>\n",
       "      <td>1</td>\n",
       "      <td>1002</td>\n",
       "      <td>Murphy</td>\n",
       "      <td>Diane</td>\n",
       "      <td>x5800</td>\n",
       "      <td>dmurphy@classicmodelcars.com</td>\n",
       "      <td>NaN</td>\n",
       "      <td>President</td>\n",
       "      <td>San Francisco11</td>\n",
       "      <td>+1 650 219 4782</td>\n",
       "      <td>100 Market Street</td>\n",
       "      <td>Suite 300</td>\n",
       "      <td>CA</td>\n",
       "      <td>USA</td>\n",
       "      <td>94080</td>\n",
       "      <td>NA</td>\n",
       "    </tr>\n",
       "    <tr>\n",
       "      <th>1</th>\n",
       "      <td>1</td>\n",
       "      <td>1056</td>\n",
       "      <td>Patterson</td>\n",
       "      <td>Mary</td>\n",
       "      <td>x4611</td>\n",
       "      <td>mpatterso@classicmodelcars.com</td>\n",
       "      <td>1002.0</td>\n",
       "      <td>VP Sales</td>\n",
       "      <td>San Francisco11</td>\n",
       "      <td>+1 650 219 4782</td>\n",
       "      <td>100 Market Street</td>\n",
       "      <td>Suite 300</td>\n",
       "      <td>CA</td>\n",
       "      <td>USA</td>\n",
       "      <td>94080</td>\n",
       "      <td>NA</td>\n",
       "    </tr>\n",
       "    <tr>\n",
       "      <th>2</th>\n",
       "      <td>1</td>\n",
       "      <td>1076</td>\n",
       "      <td>Firrelli</td>\n",
       "      <td>Jeff</td>\n",
       "      <td>x9273</td>\n",
       "      <td>jfirrelli@classicmodelcars.com</td>\n",
       "      <td>1002.0</td>\n",
       "      <td>VP Marketing</td>\n",
       "      <td>San Francisco11</td>\n",
       "      <td>+1 650 219 4782</td>\n",
       "      <td>100 Market Street</td>\n",
       "      <td>Suite 300</td>\n",
       "      <td>CA</td>\n",
       "      <td>USA</td>\n",
       "      <td>94080</td>\n",
       "      <td>NA</td>\n",
       "    </tr>\n",
       "    <tr>\n",
       "      <th>3</th>\n",
       "      <td>6</td>\n",
       "      <td>1088</td>\n",
       "      <td>Patterson</td>\n",
       "      <td>William</td>\n",
       "      <td>x4871</td>\n",
       "      <td>wpatterson@classicmodelcars.com</td>\n",
       "      <td>1056.0</td>\n",
       "      <td>Sales Manager (APAC)</td>\n",
       "      <td>Sydney1</td>\n",
       "      <td>+61 2 9264 2451</td>\n",
       "      <td>5-11 Wentworth Avenue</td>\n",
       "      <td>Floor #2</td>\n",
       "      <td>None</td>\n",
       "      <td>Australia</td>\n",
       "      <td>NSW 2010</td>\n",
       "      <td>APAC</td>\n",
       "    </tr>\n",
       "    <tr>\n",
       "      <th>4</th>\n",
       "      <td>4</td>\n",
       "      <td>1102</td>\n",
       "      <td>Bondur</td>\n",
       "      <td>Gerard</td>\n",
       "      <td>x5408</td>\n",
       "      <td>gbondur@classicmodelcars.com</td>\n",
       "      <td>1056.0</td>\n",
       "      <td>Sale Manager (EMEA)</td>\n",
       "      <td>Paris</td>\n",
       "      <td>+33 14 723 4404</td>\n",
       "      <td>43 Rue Jouffroy D'abbans</td>\n",
       "      <td>None</td>\n",
       "      <td>None</td>\n",
       "      <td>France</td>\n",
       "      <td>75017</td>\n",
       "      <td>EMEA</td>\n",
       "    </tr>\n",
       "    <tr>\n",
       "      <th>5</th>\n",
       "      <td>1</td>\n",
       "      <td>1143</td>\n",
       "      <td>Bow</td>\n",
       "      <td>Anthony</td>\n",
       "      <td>x5428</td>\n",
       "      <td>abow@classicmodelcars.com</td>\n",
       "      <td>1056.0</td>\n",
       "      <td>Sales Manager (NA)</td>\n",
       "      <td>San Francisco11</td>\n",
       "      <td>+1 650 219 4782</td>\n",
       "      <td>100 Market Street</td>\n",
       "      <td>Suite 300</td>\n",
       "      <td>CA</td>\n",
       "      <td>USA</td>\n",
       "      <td>94080</td>\n",
       "      <td>NA</td>\n",
       "    </tr>\n",
       "    <tr>\n",
       "      <th>6</th>\n",
       "      <td>1</td>\n",
       "      <td>1165</td>\n",
       "      <td>Jennings</td>\n",
       "      <td>Leslie</td>\n",
       "      <td>x3291</td>\n",
       "      <td>ljennings@classicmodelcars.com</td>\n",
       "      <td>1143.0</td>\n",
       "      <td>Sales Rep</td>\n",
       "      <td>San Francisco11</td>\n",
       "      <td>+1 650 219 4782</td>\n",
       "      <td>100 Market Street</td>\n",
       "      <td>Suite 300</td>\n",
       "      <td>CA</td>\n",
       "      <td>USA</td>\n",
       "      <td>94080</td>\n",
       "      <td>NA</td>\n",
       "    </tr>\n",
       "    <tr>\n",
       "      <th>7</th>\n",
       "      <td>1</td>\n",
       "      <td>1166</td>\n",
       "      <td>Thompson</td>\n",
       "      <td>Leslie</td>\n",
       "      <td>x4065</td>\n",
       "      <td>lthompson@classicmodelcars.com</td>\n",
       "      <td>1143.0</td>\n",
       "      <td>Sales Rep</td>\n",
       "      <td>San Francisco11</td>\n",
       "      <td>+1 650 219 4782</td>\n",
       "      <td>100 Market Street</td>\n",
       "      <td>Suite 300</td>\n",
       "      <td>CA</td>\n",
       "      <td>USA</td>\n",
       "      <td>94080</td>\n",
       "      <td>NA</td>\n",
       "    </tr>\n",
       "    <tr>\n",
       "      <th>8</th>\n",
       "      <td>2</td>\n",
       "      <td>1188</td>\n",
       "      <td>Firrelli</td>\n",
       "      <td>Julie</td>\n",
       "      <td>x2173</td>\n",
       "      <td>jfirrelli@classicmodelcars.com</td>\n",
       "      <td>1143.0</td>\n",
       "      <td>Sales Rep</td>\n",
       "      <td>Boston</td>\n",
       "      <td>+1 215 837 0825</td>\n",
       "      <td>1550 Court Place</td>\n",
       "      <td>Suite 102</td>\n",
       "      <td>MA</td>\n",
       "      <td>USA</td>\n",
       "      <td>02107</td>\n",
       "      <td>NA</td>\n",
       "    </tr>\n",
       "    <tr>\n",
       "      <th>9</th>\n",
       "      <td>2</td>\n",
       "      <td>1216</td>\n",
       "      <td>Patterson</td>\n",
       "      <td>Steve</td>\n",
       "      <td>x4334</td>\n",
       "      <td>spatterson@classicmodelcars.com</td>\n",
       "      <td>1143.0</td>\n",
       "      <td>Sales Rep</td>\n",
       "      <td>Boston</td>\n",
       "      <td>+1 215 837 0825</td>\n",
       "      <td>1550 Court Place</td>\n",
       "      <td>Suite 102</td>\n",
       "      <td>MA</td>\n",
       "      <td>USA</td>\n",
       "      <td>02107</td>\n",
       "      <td>NA</td>\n",
       "    </tr>\n",
       "  </tbody>\n",
       "</table>\n",
       "</div>"
      ]
     },
     "metadata": {
      "application/vnd.databricks.v1+output": {
       "addedWidgets": {},
       "arguments": {},
       "data": "<div>\n<style scoped>\n    .dataframe tbody tr th:only-of-type {\n        vertical-align: middle;\n    }\n\n    .dataframe tbody tr th {\n        vertical-align: top;\n    }\n\n    .dataframe thead th {\n        text-align: right;\n    }\n</style>\n<table border=\"1\" class=\"dataframe\">\n  <thead>\n    <tr style=\"text-align: right;\">\n      <th></th>\n      <th>office_code</th>\n      <th>employee_number</th>\n      <th>last_name</th>\n      <th>first_name</th>\n      <th>extension</th>\n      <th>email</th>\n      <th>reports_to</th>\n      <th>job_Title</th>\n      <th>city</th>\n      <th>phone</th>\n      <th>address_line1</th>\n      <th>address_line2</th>\n      <th>state</th>\n      <th>country</th>\n      <th>postal_code</th>\n      <th>territory</th>\n    </tr>\n  </thead>\n  <tbody>\n    <tr>\n      <th>0</th>\n      <td>1</td>\n      <td>1002</td>\n      <td>Murphy</td>\n      <td>Diane</td>\n      <td>x5800</td>\n      <td>dmurphy@classicmodelcars.com</td>\n      <td>NaN</td>\n      <td>President</td>\n      <td>San Francisco11</td>\n      <td>+1 650 219 4782</td>\n      <td>100 Market Street</td>\n      <td>Suite 300</td>\n      <td>CA</td>\n      <td>USA</td>\n      <td>94080</td>\n      <td>NA</td>\n    </tr>\n    <tr>\n      <th>1</th>\n      <td>1</td>\n      <td>1056</td>\n      <td>Patterson</td>\n      <td>Mary</td>\n      <td>x4611</td>\n      <td>mpatterso@classicmodelcars.com</td>\n      <td>1002.0</td>\n      <td>VP Sales</td>\n      <td>San Francisco11</td>\n      <td>+1 650 219 4782</td>\n      <td>100 Market Street</td>\n      <td>Suite 300</td>\n      <td>CA</td>\n      <td>USA</td>\n      <td>94080</td>\n      <td>NA</td>\n    </tr>\n    <tr>\n      <th>2</th>\n      <td>1</td>\n      <td>1076</td>\n      <td>Firrelli</td>\n      <td>Jeff</td>\n      <td>x9273</td>\n      <td>jfirrelli@classicmodelcars.com</td>\n      <td>1002.0</td>\n      <td>VP Marketing</td>\n      <td>San Francisco11</td>\n      <td>+1 650 219 4782</td>\n      <td>100 Market Street</td>\n      <td>Suite 300</td>\n      <td>CA</td>\n      <td>USA</td>\n      <td>94080</td>\n      <td>NA</td>\n    </tr>\n    <tr>\n      <th>3</th>\n      <td>6</td>\n      <td>1088</td>\n      <td>Patterson</td>\n      <td>William</td>\n      <td>x4871</td>\n      <td>wpatterson@classicmodelcars.com</td>\n      <td>1056.0</td>\n      <td>Sales Manager (APAC)</td>\n      <td>Sydney1</td>\n      <td>+61 2 9264 2451</td>\n      <td>5-11 Wentworth Avenue</td>\n      <td>Floor #2</td>\n      <td>None</td>\n      <td>Australia</td>\n      <td>NSW 2010</td>\n      <td>APAC</td>\n    </tr>\n    <tr>\n      <th>4</th>\n      <td>4</td>\n      <td>1102</td>\n      <td>Bondur</td>\n      <td>Gerard</td>\n      <td>x5408</td>\n      <td>gbondur@classicmodelcars.com</td>\n      <td>1056.0</td>\n      <td>Sale Manager (EMEA)</td>\n      <td>Paris</td>\n      <td>+33 14 723 4404</td>\n      <td>43 Rue Jouffroy D'abbans</td>\n      <td>None</td>\n      <td>None</td>\n      <td>France</td>\n      <td>75017</td>\n      <td>EMEA</td>\n    </tr>\n    <tr>\n      <th>5</th>\n      <td>1</td>\n      <td>1143</td>\n      <td>Bow</td>\n      <td>Anthony</td>\n      <td>x5428</td>\n      <td>abow@classicmodelcars.com</td>\n      <td>1056.0</td>\n      <td>Sales Manager (NA)</td>\n      <td>San Francisco11</td>\n      <td>+1 650 219 4782</td>\n      <td>100 Market Street</td>\n      <td>Suite 300</td>\n      <td>CA</td>\n      <td>USA</td>\n      <td>94080</td>\n      <td>NA</td>\n    </tr>\n    <tr>\n      <th>6</th>\n      <td>1</td>\n      <td>1165</td>\n      <td>Jennings</td>\n      <td>Leslie</td>\n      <td>x3291</td>\n      <td>ljennings@classicmodelcars.com</td>\n      <td>1143.0</td>\n      <td>Sales Rep</td>\n      <td>San Francisco11</td>\n      <td>+1 650 219 4782</td>\n      <td>100 Market Street</td>\n      <td>Suite 300</td>\n      <td>CA</td>\n      <td>USA</td>\n      <td>94080</td>\n      <td>NA</td>\n    </tr>\n    <tr>\n      <th>7</th>\n      <td>1</td>\n      <td>1166</td>\n      <td>Thompson</td>\n      <td>Leslie</td>\n      <td>x4065</td>\n      <td>lthompson@classicmodelcars.com</td>\n      <td>1143.0</td>\n      <td>Sales Rep</td>\n      <td>San Francisco11</td>\n      <td>+1 650 219 4782</td>\n      <td>100 Market Street</td>\n      <td>Suite 300</td>\n      <td>CA</td>\n      <td>USA</td>\n      <td>94080</td>\n      <td>NA</td>\n    </tr>\n    <tr>\n      <th>8</th>\n      <td>2</td>\n      <td>1188</td>\n      <td>Firrelli</td>\n      <td>Julie</td>\n      <td>x2173</td>\n      <td>jfirrelli@classicmodelcars.com</td>\n      <td>1143.0</td>\n      <td>Sales Rep</td>\n      <td>Boston</td>\n      <td>+1 215 837 0825</td>\n      <td>1550 Court Place</td>\n      <td>Suite 102</td>\n      <td>MA</td>\n      <td>USA</td>\n      <td>02107</td>\n      <td>NA</td>\n    </tr>\n    <tr>\n      <th>9</th>\n      <td>2</td>\n      <td>1216</td>\n      <td>Patterson</td>\n      <td>Steve</td>\n      <td>x4334</td>\n      <td>spatterson@classicmodelcars.com</td>\n      <td>1143.0</td>\n      <td>Sales Rep</td>\n      <td>Boston</td>\n      <td>+1 215 837 0825</td>\n      <td>1550 Court Place</td>\n      <td>Suite 102</td>\n      <td>MA</td>\n      <td>USA</td>\n      <td>02107</td>\n      <td>NA</td>\n    </tr>\n  </tbody>\n</table>\n</div>",
       "datasetInfos": [],
       "metadata": {},
       "removedWidgets": [],
       "textData": null,
       "type": "htmlSandbox"
      }
     },
     "output_type": "display_data"
    }
   ],
   "source": [
    "df_join = df_employees.join(df_offices,on = 'office_code',how='inner')\n",
    "df_join.toPandas().head(10)"
   ]
  },
  {
   "cell_type": "markdown",
   "metadata": {
    "application/vnd.databricks.v1+cell": {
     "cellMetadata": {
      "byteLimit": 2048000,
      "rowLimit": 10000
     },
     "inputWidgets": {},
     "nuid": "29e4afec-7cf4-4acb-a543-e466c30b2db4",
     "showTitle": false,
     "title": ""
    }
   },
   "source": [
    "***Filtrando as colunas desejadas e mascarar o local-part***"
   ]
  },
  {
   "cell_type": "code",
   "execution_count": 0,
   "metadata": {
    "application/vnd.databricks.v1+cell": {
     "cellMetadata": {
      "byteLimit": 2048000,
      "rowLimit": 10000
     },
     "inputWidgets": {},
     "nuid": "aee064b6-9529-4616-a433-753c18a2d164",
     "showTitle": false,
     "title": ""
    }
   },
   "outputs": [
    {
     "output_type": "display_data",
     "data": {
      "text/html": [
       "<div>\n",
       "<style scoped>\n",
       "    .dataframe tbody tr th:only-of-type {\n",
       "        vertical-align: middle;\n",
       "    }\n",
       "\n",
       "    .dataframe tbody tr th {\n",
       "        vertical-align: top;\n",
       "    }\n",
       "\n",
       "    .dataframe thead th {\n",
       "        text-align: right;\n",
       "    }\n",
       "</style>\n",
       "<table border=\"1\" class=\"dataframe\">\n",
       "  <thead>\n",
       "    <tr style=\"text-align: right;\">\n",
       "      <th></th>\n",
       "      <th>first_name</th>\n",
       "      <th>last_name</th>\n",
       "      <th>email</th>\n",
       "      <th>country</th>\n",
       "    </tr>\n",
       "  </thead>\n",
       "  <tbody>\n",
       "    <tr>\n",
       "      <th>0</th>\n",
       "      <td>Diane</td>\n",
       "      <td>Murphy</td>\n",
       "      <td>****@classicmodelcars.com</td>\n",
       "      <td>USA</td>\n",
       "    </tr>\n",
       "    <tr>\n",
       "      <th>1</th>\n",
       "      <td>Mary</td>\n",
       "      <td>Patterson</td>\n",
       "      <td>****@classicmodelcars.com</td>\n",
       "      <td>USA</td>\n",
       "    </tr>\n",
       "    <tr>\n",
       "      <th>2</th>\n",
       "      <td>Jeff</td>\n",
       "      <td>Firrelli</td>\n",
       "      <td>****@classicmodelcars.com</td>\n",
       "      <td>USA</td>\n",
       "    </tr>\n",
       "    <tr>\n",
       "      <th>3</th>\n",
       "      <td>William</td>\n",
       "      <td>Patterson</td>\n",
       "      <td>****@classicmodelcars.com</td>\n",
       "      <td>Australia</td>\n",
       "    </tr>\n",
       "    <tr>\n",
       "      <th>4</th>\n",
       "      <td>Gerard</td>\n",
       "      <td>Bondur</td>\n",
       "      <td>****@classicmodelcars.com</td>\n",
       "      <td>France</td>\n",
       "    </tr>\n",
       "    <tr>\n",
       "      <th>5</th>\n",
       "      <td>Anthony</td>\n",
       "      <td>Bow</td>\n",
       "      <td>****@classicmodelcars.com</td>\n",
       "      <td>USA</td>\n",
       "    </tr>\n",
       "    <tr>\n",
       "      <th>6</th>\n",
       "      <td>Leslie</td>\n",
       "      <td>Jennings</td>\n",
       "      <td>****@classicmodelcars.com</td>\n",
       "      <td>USA</td>\n",
       "    </tr>\n",
       "    <tr>\n",
       "      <th>7</th>\n",
       "      <td>Leslie</td>\n",
       "      <td>Thompson</td>\n",
       "      <td>****@classicmodelcars.com</td>\n",
       "      <td>USA</td>\n",
       "    </tr>\n",
       "    <tr>\n",
       "      <th>8</th>\n",
       "      <td>Julie</td>\n",
       "      <td>Firrelli</td>\n",
       "      <td>****@classicmodelcars.com</td>\n",
       "      <td>USA</td>\n",
       "    </tr>\n",
       "    <tr>\n",
       "      <th>9</th>\n",
       "      <td>Steve</td>\n",
       "      <td>Patterson</td>\n",
       "      <td>****@classicmodelcars.com</td>\n",
       "      <td>USA</td>\n",
       "    </tr>\n",
       "    <tr>\n",
       "      <th>10</th>\n",
       "      <td>Foon Yue</td>\n",
       "      <td>Tseng</td>\n",
       "      <td>****@classicmodelcars.com</td>\n",
       "      <td>USA</td>\n",
       "    </tr>\n",
       "    <tr>\n",
       "      <th>11</th>\n",
       "      <td>George</td>\n",
       "      <td>Vanauf</td>\n",
       "      <td>****@classicmodelcars.com</td>\n",
       "      <td>USA</td>\n",
       "    </tr>\n",
       "    <tr>\n",
       "      <th>12</th>\n",
       "      <td>Loui</td>\n",
       "      <td>Bondur</td>\n",
       "      <td>****@classicmodelcars.com</td>\n",
       "      <td>France</td>\n",
       "    </tr>\n",
       "    <tr>\n",
       "      <th>13</th>\n",
       "      <td>Gerard</td>\n",
       "      <td>Hernandez</td>\n",
       "      <td>****@classicmodelcars.com</td>\n",
       "      <td>France</td>\n",
       "    </tr>\n",
       "    <tr>\n",
       "      <th>14</th>\n",
       "      <td>Pamela</td>\n",
       "      <td>Castillo</td>\n",
       "      <td>****@classicmodelcars.com</td>\n",
       "      <td>France</td>\n",
       "    </tr>\n",
       "    <tr>\n",
       "      <th>15</th>\n",
       "      <td>Larry</td>\n",
       "      <td>Bott</td>\n",
       "      <td>****@classicmodelcars.com</td>\n",
       "      <td>UK</td>\n",
       "    </tr>\n",
       "    <tr>\n",
       "      <th>16</th>\n",
       "      <td>Barry</td>\n",
       "      <td>Jones</td>\n",
       "      <td>****@classicmodelcars.com</td>\n",
       "      <td>UK</td>\n",
       "    </tr>\n",
       "    <tr>\n",
       "      <th>17</th>\n",
       "      <td>Andy</td>\n",
       "      <td>Fixter</td>\n",
       "      <td>****@classicmodelcars.com</td>\n",
       "      <td>Australia</td>\n",
       "    </tr>\n",
       "    <tr>\n",
       "      <th>18</th>\n",
       "      <td>Peter</td>\n",
       "      <td>Marsh</td>\n",
       "      <td>****@classicmodelcars.com</td>\n",
       "      <td>Australia</td>\n",
       "    </tr>\n",
       "    <tr>\n",
       "      <th>19</th>\n",
       "      <td>Tom</td>\n",
       "      <td>King</td>\n",
       "      <td>****@classicmodelcars.com</td>\n",
       "      <td>Australia</td>\n",
       "    </tr>\n",
       "    <tr>\n",
       "      <th>20</th>\n",
       "      <td>Mami</td>\n",
       "      <td>Nishi</td>\n",
       "      <td>****@classicmodelcars.com</td>\n",
       "      <td>Japan</td>\n",
       "    </tr>\n",
       "    <tr>\n",
       "      <th>21</th>\n",
       "      <td>Yoshimi</td>\n",
       "      <td>Kato</td>\n",
       "      <td>****@classicmodelcars.com</td>\n",
       "      <td>Japan</td>\n",
       "    </tr>\n",
       "    <tr>\n",
       "      <th>22</th>\n",
       "      <td>Martin</td>\n",
       "      <td>Gerard</td>\n",
       "      <td>****@classicmodelcars.com</td>\n",
       "      <td>France</td>\n",
       "    </tr>\n",
       "  </tbody>\n",
       "</table>\n",
       "</div>"
      ]
     },
     "metadata": {
      "application/vnd.databricks.v1+output": {
       "addedWidgets": {},
       "arguments": {},
       "data": "<div>\n<style scoped>\n    .dataframe tbody tr th:only-of-type {\n        vertical-align: middle;\n    }\n\n    .dataframe tbody tr th {\n        vertical-align: top;\n    }\n\n    .dataframe thead th {\n        text-align: right;\n    }\n</style>\n<table border=\"1\" class=\"dataframe\">\n  <thead>\n    <tr style=\"text-align: right;\">\n      <th></th>\n      <th>first_name</th>\n      <th>last_name</th>\n      <th>email</th>\n      <th>country</th>\n    </tr>\n  </thead>\n  <tbody>\n    <tr>\n      <th>0</th>\n      <td>Diane</td>\n      <td>Murphy</td>\n      <td>****@classicmodelcars.com</td>\n      <td>USA</td>\n    </tr>\n    <tr>\n      <th>1</th>\n      <td>Mary</td>\n      <td>Patterson</td>\n      <td>****@classicmodelcars.com</td>\n      <td>USA</td>\n    </tr>\n    <tr>\n      <th>2</th>\n      <td>Jeff</td>\n      <td>Firrelli</td>\n      <td>****@classicmodelcars.com</td>\n      <td>USA</td>\n    </tr>\n    <tr>\n      <th>3</th>\n      <td>William</td>\n      <td>Patterson</td>\n      <td>****@classicmodelcars.com</td>\n      <td>Australia</td>\n    </tr>\n    <tr>\n      <th>4</th>\n      <td>Gerard</td>\n      <td>Bondur</td>\n      <td>****@classicmodelcars.com</td>\n      <td>France</td>\n    </tr>\n    <tr>\n      <th>5</th>\n      <td>Anthony</td>\n      <td>Bow</td>\n      <td>****@classicmodelcars.com</td>\n      <td>USA</td>\n    </tr>\n    <tr>\n      <th>6</th>\n      <td>Leslie</td>\n      <td>Jennings</td>\n      <td>****@classicmodelcars.com</td>\n      <td>USA</td>\n    </tr>\n    <tr>\n      <th>7</th>\n      <td>Leslie</td>\n      <td>Thompson</td>\n      <td>****@classicmodelcars.com</td>\n      <td>USA</td>\n    </tr>\n    <tr>\n      <th>8</th>\n      <td>Julie</td>\n      <td>Firrelli</td>\n      <td>****@classicmodelcars.com</td>\n      <td>USA</td>\n    </tr>\n    <tr>\n      <th>9</th>\n      <td>Steve</td>\n      <td>Patterson</td>\n      <td>****@classicmodelcars.com</td>\n      <td>USA</td>\n    </tr>\n    <tr>\n      <th>10</th>\n      <td>Foon Yue</td>\n      <td>Tseng</td>\n      <td>****@classicmodelcars.com</td>\n      <td>USA</td>\n    </tr>\n    <tr>\n      <th>11</th>\n      <td>George</td>\n      <td>Vanauf</td>\n      <td>****@classicmodelcars.com</td>\n      <td>USA</td>\n    </tr>\n    <tr>\n      <th>12</th>\n      <td>Loui</td>\n      <td>Bondur</td>\n      <td>****@classicmodelcars.com</td>\n      <td>France</td>\n    </tr>\n    <tr>\n      <th>13</th>\n      <td>Gerard</td>\n      <td>Hernandez</td>\n      <td>****@classicmodelcars.com</td>\n      <td>France</td>\n    </tr>\n    <tr>\n      <th>14</th>\n      <td>Pamela</td>\n      <td>Castillo</td>\n      <td>****@classicmodelcars.com</td>\n      <td>France</td>\n    </tr>\n    <tr>\n      <th>15</th>\n      <td>Larry</td>\n      <td>Bott</td>\n      <td>****@classicmodelcars.com</td>\n      <td>UK</td>\n    </tr>\n    <tr>\n      <th>16</th>\n      <td>Barry</td>\n      <td>Jones</td>\n      <td>****@classicmodelcars.com</td>\n      <td>UK</td>\n    </tr>\n    <tr>\n      <th>17</th>\n      <td>Andy</td>\n      <td>Fixter</td>\n      <td>****@classicmodelcars.com</td>\n      <td>Australia</td>\n    </tr>\n    <tr>\n      <th>18</th>\n      <td>Peter</td>\n      <td>Marsh</td>\n      <td>****@classicmodelcars.com</td>\n      <td>Australia</td>\n    </tr>\n    <tr>\n      <th>19</th>\n      <td>Tom</td>\n      <td>King</td>\n      <td>****@classicmodelcars.com</td>\n      <td>Australia</td>\n    </tr>\n    <tr>\n      <th>20</th>\n      <td>Mami</td>\n      <td>Nishi</td>\n      <td>****@classicmodelcars.com</td>\n      <td>Japan</td>\n    </tr>\n    <tr>\n      <th>21</th>\n      <td>Yoshimi</td>\n      <td>Kato</td>\n      <td>****@classicmodelcars.com</td>\n      <td>Japan</td>\n    </tr>\n    <tr>\n      <th>22</th>\n      <td>Martin</td>\n      <td>Gerard</td>\n      <td>****@classicmodelcars.com</td>\n      <td>France</td>\n    </tr>\n  </tbody>\n</table>\n</div>",
       "datasetInfos": [],
       "metadata": {},
       "removedWidgets": [],
       "textData": null,
       "type": "htmlSandbox"
      }
     },
     "output_type": "display_data"
    }
   ],
   "source": [
    "df_join = df_join.select('first_name','last_name','email','country')\n",
    "df_join = df_join.withColumn(\"email\", regexp_replace(col(\"email\"), \"^[^@]+\", \"****\"))\n",
    "df_join.toPandas()"
   ]
  },
  {
   "cell_type": "markdown",
   "metadata": {
    "application/vnd.databricks.v1+cell": {
     "cellMetadata": {
      "byteLimit": 2048000,
      "rowLimit": 10000
     },
     "inputWidgets": {},
     "nuid": "5a58092f-a1e4-4ee3-adf7-dccb6c0b616d",
     "showTitle": false,
     "title": ""
    }
   },
   "source": [
    "***Pegando somento os vendedores do Japão***"
   ]
  },
  {
   "cell_type": "code",
   "execution_count": 0,
   "metadata": {
    "application/vnd.databricks.v1+cell": {
     "cellMetadata": {
      "byteLimit": 2048000,
      "rowLimit": 10000
     },
     "inputWidgets": {},
     "nuid": "085cf1e7-64c4-43a4-827d-71e9716db482",
     "showTitle": false,
     "title": ""
    }
   },
   "outputs": [
    {
     "output_type": "display_data",
     "data": {
      "text/html": [
       "<div>\n",
       "<style scoped>\n",
       "    .dataframe tbody tr th:only-of-type {\n",
       "        vertical-align: middle;\n",
       "    }\n",
       "\n",
       "    .dataframe tbody tr th {\n",
       "        vertical-align: top;\n",
       "    }\n",
       "\n",
       "    .dataframe thead th {\n",
       "        text-align: right;\n",
       "    }\n",
       "</style>\n",
       "<table border=\"1\" class=\"dataframe\">\n",
       "  <thead>\n",
       "    <tr style=\"text-align: right;\">\n",
       "      <th></th>\n",
       "      <th>first_name</th>\n",
       "      <th>last_name</th>\n",
       "      <th>email</th>\n",
       "      <th>country</th>\n",
       "    </tr>\n",
       "  </thead>\n",
       "  <tbody>\n",
       "    <tr>\n",
       "      <th>0</th>\n",
       "      <td>Mami</td>\n",
       "      <td>Nishi</td>\n",
       "      <td>****@classicmodelcars.com</td>\n",
       "      <td>Japan</td>\n",
       "    </tr>\n",
       "    <tr>\n",
       "      <th>1</th>\n",
       "      <td>Yoshimi</td>\n",
       "      <td>Kato</td>\n",
       "      <td>****@classicmodelcars.com</td>\n",
       "      <td>Japan</td>\n",
       "    </tr>\n",
       "  </tbody>\n",
       "</table>\n",
       "</div>"
      ]
     },
     "metadata": {
      "application/vnd.databricks.v1+output": {
       "addedWidgets": {},
       "arguments": {},
       "data": "<div>\n<style scoped>\n    .dataframe tbody tr th:only-of-type {\n        vertical-align: middle;\n    }\n\n    .dataframe tbody tr th {\n        vertical-align: top;\n    }\n\n    .dataframe thead th {\n        text-align: right;\n    }\n</style>\n<table border=\"1\" class=\"dataframe\">\n  <thead>\n    <tr style=\"text-align: right;\">\n      <th></th>\n      <th>first_name</th>\n      <th>last_name</th>\n      <th>email</th>\n      <th>country</th>\n    </tr>\n  </thead>\n  <tbody>\n    <tr>\n      <th>0</th>\n      <td>Mami</td>\n      <td>Nishi</td>\n      <td>****@classicmodelcars.com</td>\n      <td>Japan</td>\n    </tr>\n    <tr>\n      <th>1</th>\n      <td>Yoshimi</td>\n      <td>Kato</td>\n      <td>****@classicmodelcars.com</td>\n      <td>Japan</td>\n    </tr>\n  </tbody>\n</table>\n</div>",
       "datasetInfos": [],
       "metadata": {},
       "removedWidgets": [],
       "textData": null,
       "type": "htmlSandbox"
      }
     },
     "output_type": "display_data"
    }
   ],
   "source": [
    "df_join.filter(df_join.country == 'Japan').toPandas()"
   ]
  }
 ],
 "metadata": {
  "application/vnd.databricks.v1+notebook": {
   "dashboards": [],
   "language": "python",
   "notebookMetadata": {
    "pythonIndentUnit": 4
   },
   "notebookName": "Notebook_teste_dados",
   "widgets": {}
  }
 },
 "nbformat": 4,
 "nbformat_minor": 0
}
